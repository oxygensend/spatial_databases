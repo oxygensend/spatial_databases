{
    "metadata": {
        "kernelspec": {
            "name": "SQL",
            "display_name": "SQL",
            "language": "sql"
        },
        "language_info": {
            "name": "sql",
            "version": ""
        }
    },
    "nbformat_minor": 2,
    "nbformat": 4,
    "cells": [
        {
            "cell_type": "code",
            "source": [
                "create databse lab3;"
            ],
            "metadata": {
                "language": "sql",
                "azdata_cell_guid": "e24326b2-d334-43ae-870f-439b6f75b875"
            },
            "outputs": [],
            "execution_count": null
        },
        {
            "cell_type": "code",
            "source": [
                "create EXTENSION postgis;"
            ],
            "metadata": {
                "azdata_cell_guid": "69edc7d7-efcb-447d-af8f-133608a80541",
                "language": "sql"
            },
            "outputs": [
                {
                    "output_type": "display_data",
                    "data": {
                        "text/html": "Commands completed successfully"
                    },
                    "metadata": {}
                },
                {
                    "output_type": "display_data",
                    "data": {
                        "text/html": "Total execution time: 00:00:02.620"
                    },
                    "metadata": {}
                }
            ],
            "execution_count": 1
        },
        {
            "cell_type": "code",
            "source": [
                "select * from buildings2018 limit 10;"
            ],
            "metadata": {
                "azdata_cell_guid": "de0ad4af-8484-49c9-a762-a488102122ce",
                "language": "sql"
            },
            "outputs": [
                {
                    "output_type": "display_data",
                    "data": {
                        "text/html": "(10 row(s) affected)"
                    },
                    "metadata": {}
                },
                {
                    "output_type": "display_data",
                    "data": {
                        "text/html": "Total execution time: 00:00:00.030"
                    },
                    "metadata": {}
                },
                {
                    "output_type": "execute_result",
                    "metadata": {},
                    "execution_count": 18,
                    "data": {
                        "application/vnd.dataresource+json": {
                            "schema": {
                                "fields": [
                                    {
                                        "name": "index"
                                    },
                                    {
                                        "name": "POLYGON_ID"
                                    },
                                    {
                                        "name": "NAME"
                                    },
                                    {
                                        "name": "TYPE"
                                    },
                                    {
                                        "name": "HEIGHT"
                                    },
                                    {
                                        "name": "geometry"
                                    }
                                ]
                            },
                            "data": [
                                {
                                    "0": "0",
                                    "1": "703066325",
                                    "2": "NULL",
                                    "3": "Enhanced Building/Landmark",
                                    "4": "6",
                                    "5": "0103000020E61000000100000005000000367689EAADD120408E3BA583F57F4840C4CE143AAFD1204055D97745F07F48406F2A52616CD12040320395F1EF7F4840E1D1C6116BD120406B65C22FF57F4840367689EAADD120408E3BA583F57F4840"
                                },
                                {
                                    "0": "1",
                                    "1": "702538795",
                                    "2": "NULL",
                                    "3": "Enhanced Building/Landmark",
                                    "4": "8",
                                    "5": "0103000020E6100000010000001A000000E657738060CE204084640113B881484003ECA35357CE2040F60B76C3B6814840E7E3DA5031CE20402849D74CBE814840AE81AD122CCE20402849D74CBE81484003780B2428CE20404B1FBAA0BE814840751F80D426CE204092CB7F48BF814840751F80D426CE2040D97745F0BF81484020EF552B13CE204060AB048BC381484075E5B33C0FCE204060AB048BC381484059349D9D0CCE2040A857CA32C48148403C8386FE09CE2040CB2DAD86C48148403C8386FE09CE204012DA722EC5814840CBDB114E0BCE204036B05582C5814840E78C28ED0DCE20407D5C1B2AC6814840033E3F8C10CE20407D5C1B2AC6814840AE47E17A14CE20407D5C1B2AC68148405951836918CE2040598638D6C5814840E7A90EB919CE204012DA722EC5814840E7A90EB919CE2040EF0390DAC4814840AE81AD122CCE204068D0D03FC1814840CA32C4B12ECE204068D0D03FC1814840753C66A032CE204068D0D03FC18148402046088F36CE204020240B98C0814840AE9E93DE37CE2040D97745F0BF814840AE9E93DE37CE204092CB7F48BF814840E657738060CE204084640113B8814840"
                                },
                                {
                                    "0": "2",
                                    "1": "701739806",
                                    "2": "Schloss Gottesaue",
                                    "3": "Enhanced Building/Landmark",
                                    "4": "0",
                                    "5": "0103000020E61000000100000026000000D1798D5DA2DA2040D4601A868F804840D1798D5DA2DA2040546F0D6C958048409817601F9DDA204031992A1895804840ED0DBE3099DA2040546F0D6C9580484043041C4295DA2040BFF1B567968048405FB532E197DA20402A745E63978048409817601F9DDA20404D4A41B797804840D1798D5DA2DA20402A745E6397804840D1798D5DA2DA2040AA8251499D8048402670EB6E9EDA2040AA8251499D8048407B6649809ADA2040F12E17F19D8048407B6649809ADA20407F87A2409F804840B4C876BE9FDA2040C63368E89F8048405FD218ADA3DA2040C63368E89F804840983446EBA8DA20407F87A2409F804840983446EBA8DA204038DBDC989E8048407BA01518B2DA204038DBDC989E80484009F9A067B3DA20407F87A2409F804840B4024356B7DA2040C63368E89F804840ED647094BCDA2040C63368E89F804840986E1283C0DA20407F87A2409F80484026C79DD2C1DA20401405FA449E80484009168733BFDA2040CD58349D9D804840D0B359F5B9DA2040AA8251499D804840D0B359F5B9DA2040D4601A868F804840986E1283C0DA2040B18A37328F80484026C79DD2C1DA20406ADE718A8E804840986E1283C0DA2040FF5BC98E8D804840D0B359F5B9DA2040B8AF03E78C80484098512CB7B4DA2040FF5BC98E8D80484009F9A067B3DA204046088F368E804840268DD13AAADA204046088F368E804840983446EBA8DA2040DB85E63A8D8048405FD218ADA3DA2040B8AF03E78C8048402670EB6E9EDA2040DB85E63A8D8048407B6649809ADA204046088F368E8048409817601F9DDA2040B18A37328F804840D1798D5DA2DA2040D4601A868F804840"
                                },
                                {
                                    "0": "3",
                                    "1": "701739752",
                                    "2": "Auferstehungskirche",
                                    "3": "Enhanced Building/Landmark",
                                    "4": "0",
                                    "5": "0103000020E61000000100000024000000053411363CCD20408E06F016487C4840938C9C853DCD2040B1DCD26A487C48405A2A6F4738CD20401C5F7B66497C4840CCD1E3F736CD2040AAB706B64A7C48405A2A6F4738CD2040AAB706B64A7C484077DB85E63ACD2040F163CC5D4B7C48405A2A6F4738CD2040153AAFB14B7C4840053411363CCD20407FBC57AD4C7C4840938C9C853DCD20407FBC57AD4C7C4840B03DB32440CD2040C7681D554D7C484021E527D53ECD2040EA3E00A94D7C4840E89FE06245CD20400E15E3FC4D7C4840CC0BB08F4ECD20400E15E3FC4D7C4840CC0BB08F4ECD204055C1A8A44E7C4840213CDA3862CD2040A3923A014D7C484093E34EE960CD20405CE674594C7C48403D0AD7A370CD2040CE8DE9094B7C48405ABBED4273CD2040153AAFB14B7C4840766C04E275CD2040F163CC5D4B7C4840766C04E275CD2040AAB706B64A7C484005C58F3177CD2040630B410E4A7C48402176A6D079CD2040630B410E4A7C4840E813799274CD2040B1DCD26A487C48402176A6D079CD20408E06F016487C4840766C04E275CD204000AE64C7467C4840CC6262F371CD20402384471B477C4840930035B56CCD20407155D977457C484005A8A9656BCD2040952BBCCB457C48405A9E077767CD20407155D977457C4840CC457C2766CD20407155D977457C48403EEDF0D764CD20404E7FF623457C484093E34EE960CD20407155D977457C4840213CDA3862CD2040952BBCCB457C48407715527E52CD20402384471B477C48405A643BDF4FCD2040DCD78173467C4840053411363CCD20408E06F016487C4840"
                                },
                                {
                                    "0": "4",
                                    "1": "703805232",
                                    "2": "NULL",
                                    "3": "Enhanced Building/Landmark",
                                    "4": "9",
                                    "5": "0103000020E61000000100000007000000D105F52D73CA204014D044D8F08048407CF2B0506BCA20405B7C0A80F1804840B471C45A7CCA204094DE37BEF68048400AA2EE0390CA2040E2AFC91AF580484098DD938785CA20407E52EDD3F180484098C0ADBB79CA20400DAB7823F3804840D105F52D73CA204014D044D8F0804840"
                                },
                                {
                                    "0": "5",
                                    "1": "703805231",
                                    "2": "NULL",
                                    "3": "Enhanced Building/Landmark",
                                    "4": "9",
                                    "5": "0103000020E61000000100000005000000A8C64B3789D12040315F5E807D8048406F47382D78D12040315F5E807D8048406F47382D78D12040BFB7E9CF7E804840A8C64B3789D12040E38DCC237F804840A8C64B3789D12040315F5E807D804840"
                                },
                                {
                                    "0": "6",
                                    "1": "703805233",
                                    "2": "NULL",
                                    "3": "Enhanced Building/Landmark",
                                    "4": "14",
                                    "5": "0103000020E61000000100000005000000EDB60BCD75CA2040AF777FBC57814840EE7C3F355ECA2040D34D6210588148407CD5CA845FCA20405A8121AB5B8148407C0F971C77CA204036AB3E575B814840EDB60BCD75CA2040AF777FBC57814840"
                                },
                                {
                                    "0": "7",
                                    "1": "703805234",
                                    "2": "NULL",
                                    "3": "Enhanced Building/Landmark",
                                    "4": "8",
                                    "5": "0103000020E61000000100000006000000D1915CFE43CA20402922C32ADE804840D15790662CCA20404DF8A57EDE80484060B01BB62DCA20408D7F9F71E1804840B5E0455F41CA204069A9BC1DE180484060EAE74D45CA204069A9BC1DE1804840D1915CFE43CA20402922C32ADE804840"
                                },
                                {
                                    "0": "8",
                                    "1": "703805236",
                                    "2": "NULL",
                                    "3": "Enhanced Building/Landmark",
                                    "4": "11",
                                    "5": "0103000020E61000000100000007000000EB56CF49EFCB20408CA19C6857814840B2D7BB3FDECB2040EFFE78AF5A81484007EBFF1CE6CB20407E5704FF5B81484024456458C5CB2040213CDA3862814840EBFF1CE6CBCB20408CBE8234638148400725CCB4FDCB2040857CD0B359814840EB56CF49EFCB20408CA19C6857814840"
                                },
                                {
                                    "0": "9",
                                    "1": "703805235",
                                    "2": "NULL",
                                    "3": "Enhanced Building/Landmark",
                                    "4": "14",
                                    "5": "0103000020E6100000010000000C000000EDD808C4EBCA2040E8F692C6688148407B14AE47E1CA2040287E8CB96B814840975643E21ECB204061E0B9F770814840091B9E5E29CB2040FD82DDB06D814840977329AE2ACB2040DAACFA5C6D8148405E11FC6F25CB2040B6D617096D814840EC6987BF26CB2040930035B56C814840975643E21ECB20406F2A52616C814840975643E21ECB2040930035B56C8148407B88467710CB2040287E8CB96B81484009E1D1C611CB2040E1D1C6116B814840EDD808C4EBCA2040E8F692C668814840"
                                }
                            ]
                        },
                        "text/html": [
                            "<table>",
                            "<tr><th>index</th><th>POLYGON_ID</th><th>NAME</th><th>TYPE</th><th>HEIGHT</th><th>geometry</th></tr>",
                            "<tr><td>0</td><td>703066325</td><td>NULL</td><td>Enhanced Building/Landmark</td><td>6</td><td>0103000020E61000000100000005000000367689EAADD120408E3BA583F57F4840C4CE143AAFD1204055D97745F07F48406F2A52616CD12040320395F1EF7F4840E1D1C6116BD120406B65C22FF57F4840367689EAADD120408E3BA583F57F4840</td></tr>",
                            "<tr><td>1</td><td>702538795</td><td>NULL</td><td>Enhanced Building/Landmark</td><td>8</td><td>0103000020E6100000010000001A000000E657738060CE204084640113B881484003ECA35357CE2040F60B76C3B6814840E7E3DA5031CE20402849D74CBE814840AE81AD122CCE20402849D74CBE81484003780B2428CE20404B1FBAA0BE814840751F80D426CE204092CB7F48BF814840751F80D426CE2040D97745F0BF81484020EF552B13CE204060AB048BC381484075E5B33C0FCE204060AB048BC381484059349D9D0CCE2040A857CA32C48148403C8386FE09CE2040CB2DAD86C48148403C8386FE09CE204012DA722EC5814840CBDB114E0BCE204036B05582C5814840E78C28ED0DCE20407D5C1B2AC6814840033E3F8C10CE20407D5C1B2AC6814840AE47E17A14CE20407D5C1B2AC68148405951836918CE2040598638D6C5814840E7A90EB919CE204012DA722EC5814840E7A90EB919CE2040EF0390DAC4814840AE81AD122CCE204068D0D03FC1814840CA32C4B12ECE204068D0D03FC1814840753C66A032CE204068D0D03FC18148402046088F36CE204020240B98C0814840AE9E93DE37CE2040D97745F0BF814840AE9E93DE37CE204092CB7F48BF814840E657738060CE204084640113B8814840</td></tr>",
                            "<tr><td>2</td><td>701739806</td><td>Schloss Gottesaue</td><td>Enhanced Building/Landmark</td><td>0</td><td>0103000020E61000000100000026000000D1798D5DA2DA2040D4601A868F804840D1798D5DA2DA2040546F0D6C958048409817601F9DDA204031992A1895804840ED0DBE3099DA2040546F0D6C9580484043041C4295DA2040BFF1B567968048405FB532E197DA20402A745E63978048409817601F9DDA20404D4A41B797804840D1798D5DA2DA20402A745E6397804840D1798D5DA2DA2040AA8251499D8048402670EB6E9EDA2040AA8251499D8048407B6649809ADA2040F12E17F19D8048407B6649809ADA20407F87A2409F804840B4C876BE9FDA2040C63368E89F8048405FD218ADA3DA2040C63368E89F804840983446EBA8DA20407F87A2409F804840983446EBA8DA204038DBDC989E8048407BA01518B2DA204038DBDC989E80484009F9A067B3DA20407F87A2409F804840B4024356B7DA2040C63368E89F804840ED647094BCDA2040C63368E89F804840986E1283C0DA20407F87A2409F80484026C79DD2C1DA20401405FA449E80484009168733BFDA2040CD58349D9D804840D0B359F5B9DA2040AA8251499D804840D0B359F5B9DA2040D4601A868F804840986E1283C0DA2040B18A37328F80484026C79DD2C1DA20406ADE718A8E804840986E1283C0DA2040FF5BC98E8D804840D0B359F5B9DA2040B8AF03E78C80484098512CB7B4DA2040FF5BC98E8D80484009F9A067B3DA204046088F368E804840268DD13AAADA204046088F368E804840983446EBA8DA2040DB85E63A8D8048405FD218ADA3DA2040B8AF03E78C8048402670EB6E9EDA2040DB85E63A8D8048407B6649809ADA204046088F368E8048409817601F9DDA2040B18A37328F804840D1798D5DA2DA2040D4601A868F804840</td></tr>",
                            "<tr><td>3</td><td>701739752</td><td>Auferstehungskirche</td><td>Enhanced Building/Landmark</td><td>0</td><td>0103000020E61000000100000024000000053411363CCD20408E06F016487C4840938C9C853DCD2040B1DCD26A487C48405A2A6F4738CD20401C5F7B66497C4840CCD1E3F736CD2040AAB706B64A7C48405A2A6F4738CD2040AAB706B64A7C484077DB85E63ACD2040F163CC5D4B7C48405A2A6F4738CD2040153AAFB14B7C4840053411363CCD20407FBC57AD4C7C4840938C9C853DCD20407FBC57AD4C7C4840B03DB32440CD2040C7681D554D7C484021E527D53ECD2040EA3E00A94D7C4840E89FE06245CD20400E15E3FC4D7C4840CC0BB08F4ECD20400E15E3FC4D7C4840CC0BB08F4ECD204055C1A8A44E7C4840213CDA3862CD2040A3923A014D7C484093E34EE960CD20405CE674594C7C48403D0AD7A370CD2040CE8DE9094B7C48405ABBED4273CD2040153AAFB14B7C4840766C04E275CD2040F163CC5D4B7C4840766C04E275CD2040AAB706B64A7C484005C58F3177CD2040630B410E4A7C48402176A6D079CD2040630B410E4A7C4840E813799274CD2040B1DCD26A487C48402176A6D079CD20408E06F016487C4840766C04E275CD204000AE64C7467C4840CC6262F371CD20402384471B477C4840930035B56CCD20407155D977457C484005A8A9656BCD2040952BBCCB457C48405A9E077767CD20407155D977457C4840CC457C2766CD20407155D977457C48403EEDF0D764CD20404E7FF623457C484093E34EE960CD20407155D977457C4840213CDA3862CD2040952BBCCB457C48407715527E52CD20402384471B477C48405A643BDF4FCD2040DCD78173467C4840053411363CCD20408E06F016487C4840</td></tr>",
                            "<tr><td>4</td><td>703805232</td><td>NULL</td><td>Enhanced Building/Landmark</td><td>9</td><td>0103000020E61000000100000007000000D105F52D73CA204014D044D8F08048407CF2B0506BCA20405B7C0A80F1804840B471C45A7CCA204094DE37BEF68048400AA2EE0390CA2040E2AFC91AF580484098DD938785CA20407E52EDD3F180484098C0ADBB79CA20400DAB7823F3804840D105F52D73CA204014D044D8F0804840</td></tr>",
                            "<tr><td>5</td><td>703805231</td><td>NULL</td><td>Enhanced Building/Landmark</td><td>9</td><td>0103000020E61000000100000005000000A8C64B3789D12040315F5E807D8048406F47382D78D12040315F5E807D8048406F47382D78D12040BFB7E9CF7E804840A8C64B3789D12040E38DCC237F804840A8C64B3789D12040315F5E807D804840</td></tr>",
                            "<tr><td>6</td><td>703805233</td><td>NULL</td><td>Enhanced Building/Landmark</td><td>14</td><td>0103000020E61000000100000005000000EDB60BCD75CA2040AF777FBC57814840EE7C3F355ECA2040D34D6210588148407CD5CA845FCA20405A8121AB5B8148407C0F971C77CA204036AB3E575B814840EDB60BCD75CA2040AF777FBC57814840</td></tr>",
                            "<tr><td>7</td><td>703805234</td><td>NULL</td><td>Enhanced Building/Landmark</td><td>8</td><td>0103000020E61000000100000006000000D1915CFE43CA20402922C32ADE804840D15790662CCA20404DF8A57EDE80484060B01BB62DCA20408D7F9F71E1804840B5E0455F41CA204069A9BC1DE180484060EAE74D45CA204069A9BC1DE1804840D1915CFE43CA20402922C32ADE804840</td></tr>",
                            "<tr><td>8</td><td>703805236</td><td>NULL</td><td>Enhanced Building/Landmark</td><td>11</td><td>0103000020E61000000100000007000000EB56CF49EFCB20408CA19C6857814840B2D7BB3FDECB2040EFFE78AF5A81484007EBFF1CE6CB20407E5704FF5B81484024456458C5CB2040213CDA3862814840EBFF1CE6CBCB20408CBE8234638148400725CCB4FDCB2040857CD0B359814840EB56CF49EFCB20408CA19C6857814840</td></tr>",
                            "<tr><td>9</td><td>703805235</td><td>NULL</td><td>Enhanced Building/Landmark</td><td>14</td><td>0103000020E6100000010000000C000000EDD808C4EBCA2040E8F692C6688148407B14AE47E1CA2040287E8CB96B814840975643E21ECB204061E0B9F770814840091B9E5E29CB2040FD82DDB06D814840977329AE2ACB2040DAACFA5C6D8148405E11FC6F25CB2040B6D617096D814840EC6987BF26CB2040930035B56C814840975643E21ECB20406F2A52616C814840975643E21ECB2040930035B56C8148407B88467710CB2040287E8CB96B81484009E1D1C611CB2040E1D1C6116B814840EDD808C4EBCA2040E8F692C668814840</td></tr>",
                            "</table>"
                        ]
                    }
                }
            ],
            "execution_count": 18
        },
        {
            "cell_type": "code",
            "source": [
                "select * from buildings2019 limit 10;"
            ],
            "metadata": {
                "language": "sql",
                "azdata_cell_guid": "62e46e59-7cdf-4f9e-b855-b1511b8865e8"
            },
            "outputs": [
                {
                    "output_type": "display_data",
                    "data": {
                        "text/html": "(10 row(s) affected)"
                    },
                    "metadata": {}
                },
                {
                    "output_type": "display_data",
                    "data": {
                        "text/html": "Total execution time: 00:00:00.022"
                    },
                    "metadata": {}
                },
                {
                    "output_type": "execute_result",
                    "metadata": {},
                    "execution_count": 21,
                    "data": {
                        "application/vnd.dataresource+json": {
                            "schema": {
                                "fields": [
                                    {
                                        "name": "index"
                                    },
                                    {
                                        "name": "POLYGON_ID"
                                    },
                                    {
                                        "name": "NAME"
                                    },
                                    {
                                        "name": "TYPE"
                                    },
                                    {
                                        "name": "HEIGHT"
                                    },
                                    {
                                        "name": "geometry"
                                    }
                                ]
                            },
                            "data": [
                                {
                                    "0": "0",
                                    "1": "702332510",
                                    "2": "NULL",
                                    "3": "Enhanced Building/Landmark",
                                    "4": "17",
                                    "5": "0103000020E61000000100000008000000DDD26A48DCD320400C1F11532281484032ACE28DCCD3204030F5F3A622814840C0046EDDCDD320404CA60A4625814840C0E78711C2D32040707CED9925814840DD989EB0C4D32040F7AFAC3429814840F98381E7DED32040F7AFAC3429814840DDD26A48DCD320404CA60A4625814840DDD26A48DCD320400C1F115322814840"
                                },
                                {
                                    "0": "1",
                                    "1": "702332509",
                                    "2": "NULL",
                                    "3": "Enhanced Building/Landmark",
                                    "4": "10",
                                    "5": "0103000020E610000001000000070000003563D17476D220403108AC1C5A8048403563D17476D22040382D78D157804840C3BB5CC477D2204087FE092E568048406DA818E76FD2204087FE092E56804840C39E76F86BD2204087FE092E568048403546EBA86AD220403108AC1C5A8048403563D17476D220403108AC1C5A804840"
                                },
                                {
                                    "0": "2",
                                    "1": "702332508",
                                    "2": "NULL",
                                    "3": "Enhanced Building/Landmark",
                                    "4": "3",
                                    "5": "0103000020E61000000100000008000000DE59BBED42D3204055A4C2D842804840336DFFCA4AD32040787AA52C43804840336DFFCA4AD32040C74B378941804840DE59BBED42D32040A3755435418048406CB2463D44D3204087C43D963E804840FAEDEBC039D3204087C43D963E8048406C95607138D3204055A4C2D842804840DE59BBED42D3204055A4C2D842804840"
                                },
                                {
                                    "0": "3",
                                    "1": "702332507",
                                    "2": "NULL",
                                    "3": "Enhanced Building/Landmark",
                                    "4": "11",
                                    "5": "0103000020E6100000010000000900000050C24CDBBFD22040CEC7B5A162804840C269C18BBED220403108AC1C5A80484089EAAD81ADD220403108AC1C5A80484089EAAD81ADD22040060DFD135C8048408907944DB9D22040060DFD135C80484018601F9DBAD2204023BE13B35E804840184339D1AED220404694F6065F804840A69BC420B0D22040CEC7B5A16280484050C24CDBBFD22040CEC7B5A162804840"
                                },
                                {
                                    "0": "4",
                                    "1": "702332506",
                                    "2": "NULL",
                                    "3": "Enhanced Building/Landmark",
                                    "4": "14",
                                    "5": "0103000020E61000000100000005000000F91400E319D420402237C30DF8804840F931E6AE25D42040BED9E6C6F4804840DC63E94317D420400DAB7823F38048404EEE77280AD420407008556AF6804840F91400E319D420402237C30DF8804840"
                                },
                                {
                                    "0": "5",
                                    "1": "702332515",
                                    "2": "NULL",
                                    "3": "Enhanced Building/Landmark",
                                    "4": "12",
                                    "5": "0103000020E610000001000000050000004E452A8C2DD420400C022B8716814840DC9DB5DB2ED42040705F07CE19814840C0266BD443D42040705F07CE1981484031CEDF8442D420400C022B87168148404E452A8C2DD420400C022B8716814840"
                                },
                                {
                                    "0": "6",
                                    "1": "702332514",
                                    "2": "NULL",
                                    "3": "Enhanced Building/Landmark",
                                    "4": "10",
                                    "5": "0103000020E61000000100000007000000A25D85949FD4204053CBD6FA22814840DBA2CC0699D4204077A1B94E238148404D4A41B797D4204085EB51B81E814840DB85E63A8DD4204085EB51B81E814840868F882991D4204022AB5B3D2781484031B610E4A0D42040FED478E926814840A25D85949FD4204053CBD6FA22814840"
                                },
                                {
                                    "0": "7",
                                    "1": "702332513",
                                    "2": "NULL",
                                    "3": "Enhanced Building/Landmark",
                                    "4": "17",
                                    "5": "0103000020E61000000100000007000000A31EA2D11DD420408C2D0439288148406AF6402B30D420408C2D043928814840C0EC9E3C2CD42040A9C1340C1F8148404E2844C021D42040A9C1340C1F8148406AD95A5F24D4204005FA449E2481484015C616821CD4204005FA449E24814840A31EA2D11DD420408C2D043928814840"
                                },
                                {
                                    "0": "8",
                                    "1": "702332512",
                                    "2": "NULL",
                                    "3": "Enhanced Building/Landmark",
                                    "4": "12",
                                    "5": "0103000020E610000001000000080000004EEE77280AD42040BE4D7FF6238148406B9F8EC70CD42040B003E78C28814840A31EA2D11DD420408C2D04392881484015C616821CD4204005FA449E248148404E0B5EF415D4204029D027F224814840C0B2D2A414D42040F06DFAB31F814840C095ECD808D42040F06DFAB31F8148404EEE77280AD42040BE4D7FF623814840"
                                },
                                {
                                    "0": "9",
                                    "1": "702332511",
                                    "2": "NULL",
                                    "3": "Enhanced Building/Landmark",
                                    "4": "9",
                                    "5": "0103000020E61000000100000005000000164D672783D32040F0164850FC8048401630815B77D3204085949F54FB80484033C4B12E6ED32040A245B6F3FD80484033E197FA79D320400CC85EEFFE804840164D672783D32040F0164850FC804840"
                                }
                            ]
                        },
                        "text/html": [
                            "<table>",
                            "<tr><th>index</th><th>POLYGON_ID</th><th>NAME</th><th>TYPE</th><th>HEIGHT</th><th>geometry</th></tr>",
                            "<tr><td>0</td><td>702332510</td><td>NULL</td><td>Enhanced Building/Landmark</td><td>17</td><td>0103000020E61000000100000008000000DDD26A48DCD320400C1F11532281484032ACE28DCCD3204030F5F3A622814840C0046EDDCDD320404CA60A4625814840C0E78711C2D32040707CED9925814840DD989EB0C4D32040F7AFAC3429814840F98381E7DED32040F7AFAC3429814840DDD26A48DCD320404CA60A4625814840DDD26A48DCD320400C1F115322814840</td></tr>",
                            "<tr><td>1</td><td>702332509</td><td>NULL</td><td>Enhanced Building/Landmark</td><td>10</td><td>0103000020E610000001000000070000003563D17476D220403108AC1C5A8048403563D17476D22040382D78D157804840C3BB5CC477D2204087FE092E568048406DA818E76FD2204087FE092E56804840C39E76F86BD2204087FE092E568048403546EBA86AD220403108AC1C5A8048403563D17476D220403108AC1C5A804840</td></tr>",
                            "<tr><td>2</td><td>702332508</td><td>NULL</td><td>Enhanced Building/Landmark</td><td>3</td><td>0103000020E61000000100000008000000DE59BBED42D3204055A4C2D842804840336DFFCA4AD32040787AA52C43804840336DFFCA4AD32040C74B378941804840DE59BBED42D32040A3755435418048406CB2463D44D3204087C43D963E804840FAEDEBC039D3204087C43D963E8048406C95607138D3204055A4C2D842804840DE59BBED42D3204055A4C2D842804840</td></tr>",
                            "<tr><td>3</td><td>702332507</td><td>NULL</td><td>Enhanced Building/Landmark</td><td>11</td><td>0103000020E6100000010000000900000050C24CDBBFD22040CEC7B5A162804840C269C18BBED220403108AC1C5A80484089EAAD81ADD220403108AC1C5A80484089EAAD81ADD22040060DFD135C8048408907944DB9D22040060DFD135C80484018601F9DBAD2204023BE13B35E804840184339D1AED220404694F6065F804840A69BC420B0D22040CEC7B5A16280484050C24CDBBFD22040CEC7B5A162804840</td></tr>",
                            "<tr><td>4</td><td>702332506</td><td>NULL</td><td>Enhanced Building/Landmark</td><td>14</td><td>0103000020E61000000100000005000000F91400E319D420402237C30DF8804840F931E6AE25D42040BED9E6C6F4804840DC63E94317D420400DAB7823F38048404EEE77280AD420407008556AF6804840F91400E319D420402237C30DF8804840</td></tr>",
                            "<tr><td>5</td><td>702332515</td><td>NULL</td><td>Enhanced Building/Landmark</td><td>12</td><td>0103000020E610000001000000050000004E452A8C2DD420400C022B8716814840DC9DB5DB2ED42040705F07CE19814840C0266BD443D42040705F07CE1981484031CEDF8442D420400C022B87168148404E452A8C2DD420400C022B8716814840</td></tr>",
                            "<tr><td>6</td><td>702332514</td><td>NULL</td><td>Enhanced Building/Landmark</td><td>10</td><td>0103000020E61000000100000007000000A25D85949FD4204053CBD6FA22814840DBA2CC0699D4204077A1B94E238148404D4A41B797D4204085EB51B81E814840DB85E63A8DD4204085EB51B81E814840868F882991D4204022AB5B3D2781484031B610E4A0D42040FED478E926814840A25D85949FD4204053CBD6FA22814840</td></tr>",
                            "<tr><td>7</td><td>702332513</td><td>NULL</td><td>Enhanced Building/Landmark</td><td>17</td><td>0103000020E61000000100000007000000A31EA2D11DD420408C2D0439288148406AF6402B30D420408C2D043928814840C0EC9E3C2CD42040A9C1340C1F8148404E2844C021D42040A9C1340C1F8148406AD95A5F24D4204005FA449E2481484015C616821CD4204005FA449E24814840A31EA2D11DD420408C2D043928814840</td></tr>",
                            "<tr><td>8</td><td>702332512</td><td>NULL</td><td>Enhanced Building/Landmark</td><td>12</td><td>0103000020E610000001000000080000004EEE77280AD42040BE4D7FF6238148406B9F8EC70CD42040B003E78C28814840A31EA2D11DD420408C2D04392881484015C616821CD4204005FA449E248148404E0B5EF415D4204029D027F224814840C0B2D2A414D42040F06DFAB31F814840C095ECD808D42040F06DFAB31F8148404EEE77280AD42040BE4D7FF623814840</td></tr>",
                            "<tr><td>9</td><td>702332511</td><td>NULL</td><td>Enhanced Building/Landmark</td><td>9</td><td>0103000020E61000000100000005000000164D672783D32040F0164850FC8048401630815B77D3204085949F54FB80484033C4B12E6ED32040A245B6F3FD80484033E197FA79D320400CC85EEFFE804840164D672783D32040F0164850FC804840</td></tr>",
                            "</table>"
                        ]
                    }
                }
            ],
            "execution_count": 21
        },
        {
            "cell_type": "markdown",
            "source": [
                "1.Znajdź budynki, które zostały wybudowane lub wyremontowane na przestrzeni roku (zmiana pomiędzy 2018 a 2019)."
            ],
            "metadata": {
                "language": "sql",
                "azdata_cell_guid": "649dd33f-6130-4945-9fc8-08f28dcfc652"
            },
            "attachments": {}
        },
        {
            "cell_type": "code",
            "source": [
                "select tkb.index, tkb.\"POLYGON_ID\" ,tkb.\"NAME\",tkb.\"TYPE\",tkb.\"HEIGHT\", st_astext(tkb.geometry) \n",
                "from buildings2019 tkb \n",
                "left join buildings2018 tkb18 on tkb.geometry = tkb18.geometry\n",
                "where tkb18.index is null\n",
                ""
            ],
            "metadata": {
                "language": "sql",
                "azdata_cell_guid": "e2f242c0-d532-4849-b930-578be9e6d0f9"
            },
            "outputs": [
                {
                    "output_type": "display_data",
                    "data": {
                        "text/html": "(23 row(s) affected)"
                    },
                    "metadata": {}
                },
                {
                    "output_type": "display_data",
                    "data": {
                        "text/html": "Total execution time: 00:00:00.063"
                    },
                    "metadata": {}
                },
                {
                    "output_type": "execute_result",
                    "metadata": {},
                    "execution_count": 24,
                    "data": {
                        "application/vnd.dataresource+json": {
                            "schema": {
                                "fields": [
                                    {
                                        "name": "index"
                                    },
                                    {
                                        "name": "POLYGON_ID"
                                    },
                                    {
                                        "name": "NAME"
                                    },
                                    {
                                        "name": "TYPE"
                                    },
                                    {
                                        "name": "HEIGHT"
                                    },
                                    {
                                        "name": "st_astext"
                                    }
                                ]
                            },
                            "data": [
                                {
                                    "0": "20",
                                    "1": "702332522",
                                    "2": "NULL",
                                    "3": "Enhanced Building/Landmark",
                                    "4": "8",
                                    "5": "POLYGON((8.41647 49.00392,8.41657 49.00415,8.41659 49.0042,8.41715 49.00408,8.41754 49.00399,8.41752 49.00393,8.41743 49.00374,8.41717 49.00379,8.41647 49.00392))"
                                },
                                {
                                    "0": "38",
                                    "1": "702332504",
                                    "2": "NULL",
                                    "3": "Enhanced Building/Landmark",
                                    "4": "6",
                                    "5": "POLYGON((8.41823 49.00402,8.41857 49.00395,8.41848 49.00375,8.41839 49.00376,8.4184 49.00379,8.41815 49.00384,8.41823 49.00402))"
                                },
                                {
                                    "0": "110",
                                    "1": "702332576",
                                    "2": "NULL",
                                    "3": "Enhanced Building/Landmark",
                                    "4": "10",
                                    "5": "POLYGON((8.42034 49.00319,8.41914 49.00342,8.41919 49.00354,8.41926 49.00369,8.41953 49.00364,8.41956 49.00372,8.42005 49.00362,8.42002 49.00354,8.42046 49.00346,8.42037 49.00326,8.42035 49.00322,8.42034 49.00319))"
                                },
                                {
                                    "0": "175",
                                    "1": "702332679",
                                    "2": "NULL",
                                    "3": "Enhanced Building/Landmark",
                                    "4": "7",
                                    "5": "POLYGON((8.4177 49.00395,8.41759 49.00397,8.41764 49.00407,8.41779 49.00405,8.41794 49.00402,8.4179 49.00391,8.4177 49.00395))"
                                },
                                {
                                    "0": "191",
                                    "1": "702332662",
                                    "2": "NULL",
                                    "3": "Enhanced Building/Landmark",
                                    "4": "8",
                                    "5": "POLYGON((8.41614 49.00399,8.41583 49.00404,8.41591 49.00423,8.41594 49.00431,8.41598 49.00439,8.41629 49.00433,8.41625 49.00423,8.41614 49.00399))"
                                },
                                {
                                    "0": "202",
                                    "1": "702332673",
                                    "2": "NULL",
                                    "3": "Enhanced Building/Landmark",
                                    "4": "8",
                                    "5": "POLYGON((8.41647 49.00392,8.41614 49.00399,8.41625 49.00423,8.41629 49.00433,8.41662 49.00427,8.41659 49.0042,8.41657 49.00415,8.41647 49.00392))"
                                },
                                {
                                    "0": "211",
                                    "1": "702332720",
                                    "2": "NULL",
                                    "3": "Enhanced Building/Landmark",
                                    "4": "20",
                                    "5": "POLYGON((8.41179 49.0051,8.41179 49.00509,8.41179 49.00508,8.41179 49.00507,8.4112 49.00505,8.4111 49.00505,8.4111 49.0051,8.41102 49.0051,8.41101 49.00511,8.41109 49.00511,8.41109 49.00516,8.41119 49.00516,8.41172 49.00518,8.41172 49.00516,8.4118 49.00518,8.41189 49.00519,8.4119 49.00517,8.41186 49.00516,8.41186 49.00515,8.41185 49.00514,8.41184 49.00514,8.41182 49.00513,8.41181 49.00512,8.4118 49.00511,8.41179 49.0051))"
                                },
                                {
                                    "0": "298",
                                    "1": "702322885",
                                    "2": "NULL",
                                    "3": "Enhanced Building/Landmark",
                                    "4": "18",
                                    "5": "POLYGON((8.40979 49.00654,8.40997 49.00649,8.40994 49.00614,8.40973 49.0061,8.40965 49.00609,8.40969 49.00656,8.40979 49.00654))"
                                },
                                {
                                    "0": "1202",
                                    "1": "701756341",
                                    "2": "Pyramide",
                                    "3": "Enhanced Building/Landmark",
                                    "4": "0",
                                    "5": "POLYGON((8.4038 49.00922,8.4038 49.0093,8.40393 49.0093,8.40392 49.00921,8.4038 49.00922))"
                                },
                                {
                                    "0": "2219",
                                    "1": "702328540",
                                    "2": "NULL",
                                    "3": "Enhanced Building/Landmark",
                                    "4": "11",
                                    "5": "POLYGON((8.40489 49.00885,8.40487 49.00869,8.40468 49.0087,8.40469 49.00875,8.4043 49.00877,8.40429 49.00869,8.40413 49.0087,8.40415 49.00888,8.40489 49.00885))"
                                },
                                {
                                    "0": "2225",
                                    "1": "701739792",
                                    "2": "Karl-Friedrich-Gedächtniskirche",
                                    "3": "Enhanced Building/Landmark",
                                    "4": "0",
                                    "5": "POLYGON((8.35949 49.01362,8.35952 49.01366,8.3595 49.01367,8.35957 49.01374,8.35962 49.01372,8.35968 49.01377,8.35968 49.01378,8.35971 49.01379,8.35973 49.01379,8.35974 49.01378,8.35981 49.01375,8.35982 49.01371,8.35976 49.01365,8.35981 49.01363,8.35979 49.01361,8.35979 49.0136,8.35977 49.01359,8.35974 49.01356,8.35972 49.01357,8.35968 49.01354,8.3596 49.01357,8.35958 49.01357,8.35957 49.01358,8.35949 49.01362))"
                                },
                                {
                                    "0": "2507",
                                    "1": "702538296",
                                    "2": "NULL",
                                    "3": "Enhanced Building/Landmark",
                                    "4": "9",
                                    "5": "POLYGON((8.40178 49.00082,8.40177 49.00076,8.4017 49.00076,8.40171 49.00079,8.40179 49.00141,8.40184 49.00196,8.40189 49.00194,8.40187 49.00171,8.40197 49.0017,8.40221 49.00169,8.40222 49.00179,8.40226 49.00178,8.40247 49.00178,8.40252 49.00177,8.40251 49.00168,8.40274 49.00167,8.40273 49.0016,8.40261 49.0016,8.4026 49.00154,8.40263 49.00154,8.40262 49.00146,8.40259 49.00147,8.40249 49.00147,8.40246 49.00121,8.40249 49.00121,8.40251 49.00116,8.40252 49.00111,8.40252 49.00106,8.4025 49.00101,8.40247 49.00097,8.40244 49.00097,8.40244 49.00094,8.40233 49.00095,8.4023 49.00087,8.40179 49.00095,8.40178 49.00082),(8.40209 49.00134,8.40209 49.00129,8.40218 49.00129,8.40219 49.00134,8.40209 49.00134))"
                                },
                                {
                                    "0": "2509",
                                    "1": "702538298",
                                    "2": "NULL",
                                    "3": "Enhanced Building/Landmark",
                                    "4": "4",
                                    "5": "POLYGON((8.40171 49.00079,8.40162 49.00081,8.40155 49.00082,8.40149 49.00085,8.40144 49.00088,8.40139 49.00091,8.40135 49.00095,8.40133 49.00098,8.40122 49.00099,8.40125 49.00129,8.4013 49.00129,8.40131 49.00133,8.40149 49.00138,8.40179 49.00141,8.40171 49.00079))"
                                },
                                {
                                    "0": "2512",
                                    "1": "793349190",
                                    "2": "Schwarzwaldhalle",
                                    "3": "Enhanced Building/Landmark",
                                    "4": "4",
                                    "5": "POLYGON((8.40179 49.00141,8.40149 49.00138,8.40141 49.00158,8.40143 49.00158,8.40147 49.00159,8.40151 49.00161,8.40157 49.00163,8.4016 49.00166,8.40162 49.00171,8.40163 49.00174,8.40163 49.00177,8.40162 49.00181,8.4016 49.00184,8.40154 49.00188,8.40142 49.00194,8.40134 49.00196,8.40124 49.00197,8.40116 49.00198,8.40104 49.00198,8.401 49.00198,8.40089 49.00196,8.40086 49.00195,8.40082 49.00194,8.40079 49.00193,8.40076 49.00192,8.40072 49.00191,8.40067 49.00188,8.40064 49.00182,8.40064 49.0018,8.40063 49.00187,8.40053 49.00187,8.40062 49.00208,8.40125 49.00224,8.40129 49.00224,8.40131 49.00229,8.40151 49.00229,8.40154 49.0021,8.40156 49.00209,8.40157 49.00202,8.40184 49.00201,8.40184 49.00196,8.40179 49.00141))"
                                },
                                {
                                    "0": "2513",
                                    "1": "793349191",
                                    "2": "Schwarzwaldhalle",
                                    "3": "Enhanced Building/Landmark",
                                    "4": "17",
                                    "5": "POLYGON((8.40141 49.00158,8.40139 49.00157,8.40129 49.00155,8.40117 49.00154,8.40109 49.00154,8.40102 49.00155,8.40088 49.00157,8.40076 49.0016,8.40067 49.00165,8.40064 49.00169,8.40063 49.00173,8.40063 49.00177,8.40064 49.0018,8.40064 49.00182,8.40067 49.00188,8.40072 49.00191,8.40076 49.00192,8.40079 49.00193,8.40082 49.00194,8.40086 49.00195,8.40089 49.00196,8.401 49.00198,8.40104 49.00198,8.40116 49.00198,8.40124 49.00197,8.40134 49.00196,8.40142 49.00194,8.40154 49.00188,8.4016 49.00184,8.40162 49.00181,8.40163 49.00177,8.40163 49.00174,8.40162 49.00171,8.4016 49.00166,8.40157 49.00163,8.40151 49.00161,8.40147 49.00159,8.40143 49.00158,8.40141 49.00158))"
                                },
                                {
                                    "0": "2526",
                                    "1": "793720764",
                                    "2": "Stadtkirche",
                                    "3": "Enhanced Building/Landmark",
                                    "4": "9",
                                    "5": "POLYGON((8.4048 49.00857,8.40482 49.00857,8.40482 49.00852,8.4048 49.00852,8.4048 49.00857))"
                                },
                                {
                                    "0": "2527",
                                    "1": "793721147",
                                    "2": "Stadtkirche",
                                    "3": "Enhanced Building/Landmark",
                                    "4": "35",
                                    "5": "POLYGON((8.40466 49.0086,8.40481 49.00859,8.4048 49.00857,8.4048 49.00852,8.4048 49.0085,8.40465 49.00851,8.40466 49.0086),(8.40467 49.00859,8.40466 49.00852,8.40479 49.00851,8.40479 49.00858,8.40467 49.00859))"
                                },
                                {
                                    "0": "2528",
                                    "1": "793721148",
                                    "2": "Stadtkirche",
                                    "3": "Enhanced Building/Landmark",
                                    "4": "66",
                                    "5": "POLYGON((8.40466 49.00852,8.40467 49.00859,8.40479 49.00858,8.40479 49.00851,8.40466 49.00852))"
                                },
                                {
                                    "0": "2529",
                                    "1": "702328521",
                                    "2": "Stadtkirche",
                                    "3": "Enhanced Building/Landmark",
                                    "4": "25",
                                    "5": "POLYGON((8.40465 49.00851,8.4048 49.0085,8.4048 49.00842,8.40465 49.00843,8.40465 49.00846,8.40465 49.00851))"
                                },
                                {
                                    "0": "2530",
                                    "1": "702328519",
                                    "2": "Stadtkirche",
                                    "3": "Enhanced Building/Landmark",
                                    "4": "25",
                                    "5": "POLYGON((8.40481 49.00859,8.40466 49.0086,8.40466 49.00864,8.40467 49.00869,8.40482 49.00868,8.40481 49.00859))"
                                },
                                {
                                    "0": "2531",
                                    "1": "702328520",
                                    "2": "Stadtkirche",
                                    "3": "Enhanced Building/Landmark",
                                    "4": "18",
                                    "5": "POLYGON((8.40466 49.0086,8.40465 49.00851,8.40465 49.00846,8.40403 49.00848,8.40404 49.00866,8.40466 49.00864,8.40466 49.0086))"
                                },
                                {
                                    "0": "3119",
                                    "1": "702325033",
                                    "2": "NULL",
                                    "3": "Enhanced Building/Landmark",
                                    "4": "14",
                                    "5": "POLYGON((8.40433 49.00919,8.40457 49.00918,8.40456 49.00906,8.40466 49.00905,8.40479 49.00904,8.40488 49.00904,8.40496 49.00904,8.40494 49.00892,8.40478 49.00893,8.4043 49.00895,8.40433 49.00919))"
                                },
                                {
                                    "0": "3848",
                                    "1": "702284666",
                                    "2": "NULL",
                                    "3": "Enhanced Building/Landmark",
                                    "4": "4",
                                    "5": "POLYGON((8.41506 49.0133,8.41451 49.01332,8.41452 49.01345,8.41521 49.01342,8.41588 49.01339,8.41587 49.01333,8.4156 49.01334,8.41559 49.01326,8.4154 49.01327,8.41541 49.01335,8.41521 49.01336,8.41507 49.01336,8.41506 49.0133))"
                                }
                            ]
                        },
                        "text/html": [
                            "<table>",
                            "<tr><th>index</th><th>POLYGON_ID</th><th>NAME</th><th>TYPE</th><th>HEIGHT</th><th>st_astext</th></tr>",
                            "<tr><td>20</td><td>702332522</td><td>NULL</td><td>Enhanced Building/Landmark</td><td>8</td><td>POLYGON((8.41647 49.00392,8.41657 49.00415,8.41659 49.0042,8.41715 49.00408,8.41754 49.00399,8.41752 49.00393,8.41743 49.00374,8.41717 49.00379,8.41647 49.00392))</td></tr>",
                            "<tr><td>38</td><td>702332504</td><td>NULL</td><td>Enhanced Building/Landmark</td><td>6</td><td>POLYGON((8.41823 49.00402,8.41857 49.00395,8.41848 49.00375,8.41839 49.00376,8.4184 49.00379,8.41815 49.00384,8.41823 49.00402))</td></tr>",
                            "<tr><td>110</td><td>702332576</td><td>NULL</td><td>Enhanced Building/Landmark</td><td>10</td><td>POLYGON((8.42034 49.00319,8.41914 49.00342,8.41919 49.00354,8.41926 49.00369,8.41953 49.00364,8.41956 49.00372,8.42005 49.00362,8.42002 49.00354,8.42046 49.00346,8.42037 49.00326,8.42035 49.00322,8.42034 49.00319))</td></tr>",
                            "<tr><td>175</td><td>702332679</td><td>NULL</td><td>Enhanced Building/Landmark</td><td>7</td><td>POLYGON((8.4177 49.00395,8.41759 49.00397,8.41764 49.00407,8.41779 49.00405,8.41794 49.00402,8.4179 49.00391,8.4177 49.00395))</td></tr>",
                            "<tr><td>191</td><td>702332662</td><td>NULL</td><td>Enhanced Building/Landmark</td><td>8</td><td>POLYGON((8.41614 49.00399,8.41583 49.00404,8.41591 49.00423,8.41594 49.00431,8.41598 49.00439,8.41629 49.00433,8.41625 49.00423,8.41614 49.00399))</td></tr>",
                            "<tr><td>202</td><td>702332673</td><td>NULL</td><td>Enhanced Building/Landmark</td><td>8</td><td>POLYGON((8.41647 49.00392,8.41614 49.00399,8.41625 49.00423,8.41629 49.00433,8.41662 49.00427,8.41659 49.0042,8.41657 49.00415,8.41647 49.00392))</td></tr>",
                            "<tr><td>211</td><td>702332720</td><td>NULL</td><td>Enhanced Building/Landmark</td><td>20</td><td>POLYGON((8.41179 49.0051,8.41179 49.00509,8.41179 49.00508,8.41179 49.00507,8.4112 49.00505,8.4111 49.00505,8.4111 49.0051,8.41102 49.0051,8.41101 49.00511,8.41109 49.00511,8.41109 49.00516,8.41119 49.00516,8.41172 49.00518,8.41172 49.00516,8.4118 49.00518,8.41189 49.00519,8.4119 49.00517,8.41186 49.00516,8.41186 49.00515,8.41185 49.00514,8.41184 49.00514,8.41182 49.00513,8.41181 49.00512,8.4118 49.00511,8.41179 49.0051))</td></tr>",
                            "<tr><td>298</td><td>702322885</td><td>NULL</td><td>Enhanced Building/Landmark</td><td>18</td><td>POLYGON((8.40979 49.00654,8.40997 49.00649,8.40994 49.00614,8.40973 49.0061,8.40965 49.00609,8.40969 49.00656,8.40979 49.00654))</td></tr>",
                            "<tr><td>1202</td><td>701756341</td><td>Pyramide</td><td>Enhanced Building/Landmark</td><td>0</td><td>POLYGON((8.4038 49.00922,8.4038 49.0093,8.40393 49.0093,8.40392 49.00921,8.4038 49.00922))</td></tr>",
                            "<tr><td>2219</td><td>702328540</td><td>NULL</td><td>Enhanced Building/Landmark</td><td>11</td><td>POLYGON((8.40489 49.00885,8.40487 49.00869,8.40468 49.0087,8.40469 49.00875,8.4043 49.00877,8.40429 49.00869,8.40413 49.0087,8.40415 49.00888,8.40489 49.00885))</td></tr>",
                            "<tr><td>2225</td><td>701739792</td><td>Karl-Friedrich-Gedächtniskirche</td><td>Enhanced Building/Landmark</td><td>0</td><td>POLYGON((8.35949 49.01362,8.35952 49.01366,8.3595 49.01367,8.35957 49.01374,8.35962 49.01372,8.35968 49.01377,8.35968 49.01378,8.35971 49.01379,8.35973 49.01379,8.35974 49.01378,8.35981 49.01375,8.35982 49.01371,8.35976 49.01365,8.35981 49.01363,8.35979 49.01361,8.35979 49.0136,8.35977 49.01359,8.35974 49.01356,8.35972 49.01357,8.35968 49.01354,8.3596 49.01357,8.35958 49.01357,8.35957 49.01358,8.35949 49.01362))</td></tr>",
                            "<tr><td>2507</td><td>702538296</td><td>NULL</td><td>Enhanced Building/Landmark</td><td>9</td><td>POLYGON((8.40178 49.00082,8.40177 49.00076,8.4017 49.00076,8.40171 49.00079,8.40179 49.00141,8.40184 49.00196,8.40189 49.00194,8.40187 49.00171,8.40197 49.0017,8.40221 49.00169,8.40222 49.00179,8.40226 49.00178,8.40247 49.00178,8.40252 49.00177,8.40251 49.00168,8.40274 49.00167,8.40273 49.0016,8.40261 49.0016,8.4026 49.00154,8.40263 49.00154,8.40262 49.00146,8.40259 49.00147,8.40249 49.00147,8.40246 49.00121,8.40249 49.00121,8.40251 49.00116,8.40252 49.00111,8.40252 49.00106,8.4025 49.00101,8.40247 49.00097,8.40244 49.00097,8.40244 49.00094,8.40233 49.00095,8.4023 49.00087,8.40179 49.00095,8.40178 49.00082),(8.40209 49.00134,8.40209 49.00129,8.40218 49.00129,8.40219 49.00134,8.40209 49.00134))</td></tr>",
                            "<tr><td>2509</td><td>702538298</td><td>NULL</td><td>Enhanced Building/Landmark</td><td>4</td><td>POLYGON((8.40171 49.00079,8.40162 49.00081,8.40155 49.00082,8.40149 49.00085,8.40144 49.00088,8.40139 49.00091,8.40135 49.00095,8.40133 49.00098,8.40122 49.00099,8.40125 49.00129,8.4013 49.00129,8.40131 49.00133,8.40149 49.00138,8.40179 49.00141,8.40171 49.00079))</td></tr>",
                            "<tr><td>2512</td><td>793349190</td><td>Schwarzwaldhalle</td><td>Enhanced Building/Landmark</td><td>4</td><td>POLYGON((8.40179 49.00141,8.40149 49.00138,8.40141 49.00158,8.40143 49.00158,8.40147 49.00159,8.40151 49.00161,8.40157 49.00163,8.4016 49.00166,8.40162 49.00171,8.40163 49.00174,8.40163 49.00177,8.40162 49.00181,8.4016 49.00184,8.40154 49.00188,8.40142 49.00194,8.40134 49.00196,8.40124 49.00197,8.40116 49.00198,8.40104 49.00198,8.401 49.00198,8.40089 49.00196,8.40086 49.00195,8.40082 49.00194,8.40079 49.00193,8.40076 49.00192,8.40072 49.00191,8.40067 49.00188,8.40064 49.00182,8.40064 49.0018,8.40063 49.00187,8.40053 49.00187,8.40062 49.00208,8.40125 49.00224,8.40129 49.00224,8.40131 49.00229,8.40151 49.00229,8.40154 49.0021,8.40156 49.00209,8.40157 49.00202,8.40184 49.00201,8.40184 49.00196,8.40179 49.00141))</td></tr>",
                            "<tr><td>2513</td><td>793349191</td><td>Schwarzwaldhalle</td><td>Enhanced Building/Landmark</td><td>17</td><td>POLYGON((8.40141 49.00158,8.40139 49.00157,8.40129 49.00155,8.40117 49.00154,8.40109 49.00154,8.40102 49.00155,8.40088 49.00157,8.40076 49.0016,8.40067 49.00165,8.40064 49.00169,8.40063 49.00173,8.40063 49.00177,8.40064 49.0018,8.40064 49.00182,8.40067 49.00188,8.40072 49.00191,8.40076 49.00192,8.40079 49.00193,8.40082 49.00194,8.40086 49.00195,8.40089 49.00196,8.401 49.00198,8.40104 49.00198,8.40116 49.00198,8.40124 49.00197,8.40134 49.00196,8.40142 49.00194,8.40154 49.00188,8.4016 49.00184,8.40162 49.00181,8.40163 49.00177,8.40163 49.00174,8.40162 49.00171,8.4016 49.00166,8.40157 49.00163,8.40151 49.00161,8.40147 49.00159,8.40143 49.00158,8.40141 49.00158))</td></tr>",
                            "<tr><td>2526</td><td>793720764</td><td>Stadtkirche</td><td>Enhanced Building/Landmark</td><td>9</td><td>POLYGON((8.4048 49.00857,8.40482 49.00857,8.40482 49.00852,8.4048 49.00852,8.4048 49.00857))</td></tr>",
                            "<tr><td>2527</td><td>793721147</td><td>Stadtkirche</td><td>Enhanced Building/Landmark</td><td>35</td><td>POLYGON((8.40466 49.0086,8.40481 49.00859,8.4048 49.00857,8.4048 49.00852,8.4048 49.0085,8.40465 49.00851,8.40466 49.0086),(8.40467 49.00859,8.40466 49.00852,8.40479 49.00851,8.40479 49.00858,8.40467 49.00859))</td></tr>",
                            "<tr><td>2528</td><td>793721148</td><td>Stadtkirche</td><td>Enhanced Building/Landmark</td><td>66</td><td>POLYGON((8.40466 49.00852,8.40467 49.00859,8.40479 49.00858,8.40479 49.00851,8.40466 49.00852))</td></tr>",
                            "<tr><td>2529</td><td>702328521</td><td>Stadtkirche</td><td>Enhanced Building/Landmark</td><td>25</td><td>POLYGON((8.40465 49.00851,8.4048 49.0085,8.4048 49.00842,8.40465 49.00843,8.40465 49.00846,8.40465 49.00851))</td></tr>",
                            "<tr><td>2530</td><td>702328519</td><td>Stadtkirche</td><td>Enhanced Building/Landmark</td><td>25</td><td>POLYGON((8.40481 49.00859,8.40466 49.0086,8.40466 49.00864,8.40467 49.00869,8.40482 49.00868,8.40481 49.00859))</td></tr>",
                            "<tr><td>2531</td><td>702328520</td><td>Stadtkirche</td><td>Enhanced Building/Landmark</td><td>18</td><td>POLYGON((8.40466 49.0086,8.40465 49.00851,8.40465 49.00846,8.40403 49.00848,8.40404 49.00866,8.40466 49.00864,8.40466 49.0086))</td></tr>",
                            "<tr><td>3119</td><td>702325033</td><td>NULL</td><td>Enhanced Building/Landmark</td><td>14</td><td>POLYGON((8.40433 49.00919,8.40457 49.00918,8.40456 49.00906,8.40466 49.00905,8.40479 49.00904,8.40488 49.00904,8.40496 49.00904,8.40494 49.00892,8.40478 49.00893,8.4043 49.00895,8.40433 49.00919))</td></tr>",
                            "<tr><td>3848</td><td>702284666</td><td>NULL</td><td>Enhanced Building/Landmark</td><td>4</td><td>POLYGON((8.41506 49.0133,8.41451 49.01332,8.41452 49.01345,8.41521 49.01342,8.41588 49.01339,8.41587 49.01333,8.4156 49.01334,8.41559 49.01326,8.4154 49.01327,8.41541 49.01335,8.41521 49.01336,8.41507 49.01336,8.41506 49.0133))</td></tr>",
                            "</table>"
                        ]
                    }
                }
            ],
            "execution_count": 24
        },
        {
            "cell_type": "markdown",
            "source": [
                "2.Znajdź ile nowych POI pojawiło się w promieniu 500 m od wyremontowanych lub wybudowanych budynków, które znalezione zostały w zadaniu 1. Policz je wg ich kategorii. 1-111km!!!!!!!!"
            ],
            "metadata": {
                "language": "sql",
                "azdata_cell_guid": "6e0ea190-2bff-47b1-a4b4-73c3000b6792"
            },
            "attachments": {}
        },
        {
            "cell_type": "code",
            "source": [
                "with new_buildings as (\n",
                "    select tkb.*\n",
                "        from buildings2019 tkb \n",
                "        left join buildings2018 tkb18 on tkb.geometry = tkb18.geometry\n",
                "        where tkb18.index is null\n",
                "),\n",
                "new_poi as (\n",
                "    select p19.*\n",
                "    from poi2019 p19\n",
                "    left join poi2018 p18 on p18.geometry = p19.geometry\n",
                "    where p18.index is null\n",
                ")\n",
                "\n",
                "select p.\"TYPE\", count(*)\n",
                "    from new_poi p\n",
                "    join new_buildings b on ST_Intersects(p.geometry, ST_Buffer(b.geometry,0.005))\n",
                "    group by p.\"TYPE\"\n",
                "    ;"
            ],
            "metadata": {
                "language": "sql",
                "azdata_cell_guid": "e3ce7ac9-f55a-4b6f-8527-499551111e65"
            },
            "outputs": [
                {
                    "output_type": "display_data",
                    "data": {
                        "text/html": "(45 row(s) affected)"
                    },
                    "metadata": {}
                },
                {
                    "output_type": "display_data",
                    "data": {
                        "text/html": "Total execution time: 00:00:03.267"
                    },
                    "metadata": {}
                },
                {
                    "output_type": "execute_result",
                    "metadata": {},
                    "execution_count": 32,
                    "data": {
                        "application/vnd.dataresource+json": {
                            "schema": {
                                "fields": [
                                    {
                                        "name": "TYPE"
                                    },
                                    {
                                        "name": "count"
                                    }
                                ]
                            },
                            "data": [
                                {
                                    "0": "ATM",
                                    "1": "27"
                                },
                                {
                                    "0": "Auto Dealerships",
                                    "1": "5"
                                },
                                {
                                    "0": "Auto Service & Maintenance",
                                    "1": "5"
                                },
                                {
                                    "0": "Bank",
                                    "1": "36"
                                },
                                {
                                    "0": "Bookstore",
                                    "1": "28"
                                },
                                {
                                    "0": "Business Facility",
                                    "1": "11"
                                },
                                {
                                    "0": "Cemetery",
                                    "1": "7"
                                },
                                {
                                    "0": "Cinema",
                                    "1": "2"
                                },
                                {
                                    "0": "City Hall",
                                    "1": "9"
                                },
                                {
                                    "0": "Clothing Store",
                                    "1": "544"
                                },
                                {
                                    "0": "Coffee Shop",
                                    "1": "37"
                                },
                                {
                                    "0": "Commuter Rail Station",
                                    "1": "49"
                                },
                                {
                                    "0": "Consumer Electronics Store",
                                    "1": "69"
                                },
                                {
                                    "0": "Convention/Exhibition Centre",
                                    "1": "20"
                                },
                                {
                                    "0": "Court House",
                                    "1": "18"
                                },
                                {
                                    "0": "Department Store",
                                    "1": "9"
                                },
                                {
                                    "0": "Government Office",
                                    "1": "9"
                                },
                                {
                                    "0": "Grocery Store",
                                    "1": "33"
                                },
                                {
                                    "0": "Higher Education",
                                    "1": "1"
                                },
                                {
                                    "0": "Historical Monument",
                                    "1": "37"
                                },
                                {
                                    "0": "Home Improvement & Hardware Store",
                                    "1": "6"
                                },
                                {
                                    "0": "Home Specialty Store",
                                    "1": "39"
                                },
                                {
                                    "0": "Hotel",
                                    "1": "23"
                                },
                                {
                                    "0": "Library",
                                    "1": "10"
                                },
                                {
                                    "0": "Medical Service",
                                    "1": "529"
                                },
                                {
                                    "0": "Museum",
                                    "1": "9"
                                },
                                {
                                    "0": "Nightlife",
                                    "1": "37"
                                },
                                {
                                    "0": "Office Supply & Services Store",
                                    "1": "13"
                                },
                                {
                                    "0": "Parking Garage/House",
                                    "1": "38"
                                },
                                {
                                    "0": "Park/Recreation Area",
                                    "1": "14"
                                },
                                {
                                    "0": "Performing Arts",
                                    "1": "13"
                                },
                                {
                                    "0": "Petrol/Gasoline Station",
                                    "1": "1"
                                },
                                {
                                    "0": "Pharmacy",
                                    "1": "35"
                                },
                                {
                                    "0": "Place of Worship",
                                    "1": "32"
                                },
                                {
                                    "0": "Police Station",
                                    "1": "8"
                                },
                                {
                                    "0": "Rental Car Agency",
                                    "1": "17"
                                },
                                {
                                    "0": "Residential Area/Building",
                                    "1": "9"
                                },
                                {
                                    "0": "Restaurant",
                                    "1": "113"
                                },
                                {
                                    "0": "School",
                                    "1": "43"
                                },
                                {
                                    "0": "Shopping",
                                    "1": "13"
                                },
                                {
                                    "0": "Specialty Store",
                                    "1": "229"
                                },
                                {
                                    "0": "Sporting Goods Store",
                                    "1": "13"
                                },
                                {
                                    "0": "Sports Centre",
                                    "1": "6"
                                },
                                {
                                    "0": "Tourist Attraction",
                                    "1": "9"
                                },
                                {
                                    "0": "Tourist Information",
                                    "1": "9"
                                }
                            ]
                        },
                        "text/html": [
                            "<table>",
                            "<tr><th>TYPE</th><th>count</th></tr>",
                            "<tr><td>ATM</td><td>27</td></tr>",
                            "<tr><td>Auto Dealerships</td><td>5</td></tr>",
                            "<tr><td>Auto Service &amp; Maintenance</td><td>5</td></tr>",
                            "<tr><td>Bank</td><td>36</td></tr>",
                            "<tr><td>Bookstore</td><td>28</td></tr>",
                            "<tr><td>Business Facility</td><td>11</td></tr>",
                            "<tr><td>Cemetery</td><td>7</td></tr>",
                            "<tr><td>Cinema</td><td>2</td></tr>",
                            "<tr><td>City Hall</td><td>9</td></tr>",
                            "<tr><td>Clothing Store</td><td>544</td></tr>",
                            "<tr><td>Coffee Shop</td><td>37</td></tr>",
                            "<tr><td>Commuter Rail Station</td><td>49</td></tr>",
                            "<tr><td>Consumer Electronics Store</td><td>69</td></tr>",
                            "<tr><td>Convention/Exhibition Centre</td><td>20</td></tr>",
                            "<tr><td>Court House</td><td>18</td></tr>",
                            "<tr><td>Department Store</td><td>9</td></tr>",
                            "<tr><td>Government Office</td><td>9</td></tr>",
                            "<tr><td>Grocery Store</td><td>33</td></tr>",
                            "<tr><td>Higher Education</td><td>1</td></tr>",
                            "<tr><td>Historical Monument</td><td>37</td></tr>",
                            "<tr><td>Home Improvement &amp; Hardware Store</td><td>6</td></tr>",
                            "<tr><td>Home Specialty Store</td><td>39</td></tr>",
                            "<tr><td>Hotel</td><td>23</td></tr>",
                            "<tr><td>Library</td><td>10</td></tr>",
                            "<tr><td>Medical Service</td><td>529</td></tr>",
                            "<tr><td>Museum</td><td>9</td></tr>",
                            "<tr><td>Nightlife</td><td>37</td></tr>",
                            "<tr><td>Office Supply &amp; Services Store</td><td>13</td></tr>",
                            "<tr><td>Parking Garage/House</td><td>38</td></tr>",
                            "<tr><td>Park/Recreation Area</td><td>14</td></tr>",
                            "<tr><td>Performing Arts</td><td>13</td></tr>",
                            "<tr><td>Petrol/Gasoline Station</td><td>1</td></tr>",
                            "<tr><td>Pharmacy</td><td>35</td></tr>",
                            "<tr><td>Place of Worship</td><td>32</td></tr>",
                            "<tr><td>Police Station</td><td>8</td></tr>",
                            "<tr><td>Rental Car Agency</td><td>17</td></tr>",
                            "<tr><td>Residential Area/Building</td><td>9</td></tr>",
                            "<tr><td>Restaurant</td><td>113</td></tr>",
                            "<tr><td>School</td><td>43</td></tr>",
                            "<tr><td>Shopping</td><td>13</td></tr>",
                            "<tr><td>Specialty Store</td><td>229</td></tr>",
                            "<tr><td>Sporting Goods Store</td><td>13</td></tr>",
                            "<tr><td>Sports Centre</td><td>6</td></tr>",
                            "<tr><td>Tourist Attraction</td><td>9</td></tr>",
                            "<tr><td>Tourist Information</td><td>9</td></tr>",
                            "</table>"
                        ]
                    }
                }
            ],
            "execution_count": 32
        },
        {
            "cell_type": "markdown",
            "source": [
                "<span style=\"color: #6089b4;\">3</span>.Utwórz nową tabelę o nazwie ‘streets\\_reprojected’, która zawierać będzie dane z tabeli\n",
                "\n",
                "T2019\\_KAR\\_STREETS przetransformowane <span style=\"color: #676867;\">do</span> układu współrzędnych <span style=\"color: #8080ff;\">DHDN</span>.<span style=\"color: #8080ff;\">Berlin</span><span style=\"color: #676867;\">/</span>Cassini."
            ],
            "metadata": {
                "language": "sql",
                "azdata_cell_guid": "16ee0198-8c3c-4e5a-b5cb-5165232f426a"
            },
            "attachments": {}
        },
        {
            "cell_type": "code",
            "source": [
                "select * from streets_reprojected limit 10"
            ],
            "metadata": {
                "language": "sql",
                "azdata_cell_guid": "5daba1f4-94fb-416c-aab1-b0be6d1d9404"
            },
            "outputs": [
                {
                    "output_type": "display_data",
                    "data": {
                        "text/html": "(10 row(s) affected)"
                    },
                    "metadata": {}
                },
                {
                    "output_type": "display_data",
                    "data": {
                        "text/html": "Total execution time: 00:00:00.021"
                    },
                    "metadata": {}
                },
                {
                    "output_type": "execute_result",
                    "metadata": {},
                    "execution_count": 37,
                    "data": {
                        "application/vnd.dataresource+json": {
                            "schema": {
                                "fields": [
                                    {
                                        "name": "index"
                                    },
                                    {
                                        "name": "LINK_ID"
                                    },
                                    {
                                        "name": "ST_NAME"
                                    },
                                    {
                                        "name": "REF_IN_ID"
                                    },
                                    {
                                        "name": "NREF_IN_ID"
                                    },
                                    {
                                        "name": "FUNC_CLASS"
                                    },
                                    {
                                        "name": "SPEED_CAT"
                                    },
                                    {
                                        "name": "FR_SPEED_L"
                                    },
                                    {
                                        "name": "TO_SPEED_L"
                                    },
                                    {
                                        "name": "DIR_TRAVEL"
                                    },
                                    {
                                        "name": "geometry"
                                    }
                                ]
                            },
                            "data": [
                                {
                                    "0": "0",
                                    "1": "1249057345",
                                    "2": "NULL",
                                    "3": "1176053948",
                                    "4": "957741789",
                                    "5": "5",
                                    "6": "6",
                                    "7": "0",
                                    "8": "50",
                                    "9": "T",
                                    "10": "0102000020E610000006000000637FD93D79C82040B806B64AB0804840D5264EEE77C8204022895E46B1804840D5264EEE77C82040B1E1E995B2804840D5264EEE77C820401B649291B3804840637FD93D79C8204062105839B48048400D897B2C7DC82040CD920035B5804840"
                                },
                                {
                                    "0": "1",
                                    "1": "1249057344",
                                    "2": "NULL",
                                    "3": "957741788",
                                    "4": "1176053948",
                                    "5": "5",
                                    "6": "6",
                                    "7": "0",
                                    "8": "50",
                                    "9": "T",
                                    "10": "0102000020E610000003000000B8921D1B81C8204006D847A7AE8048400D897B2C7DC820404D840D4FAF804840637FD93D79C82040B806B64AB0804840"
                                },
                                {
                                    "0": "2",
                                    "1": "1249056034",
                                    "2": "Ritterstraße",
                                    "3": "1176053239",
                                    "4": "58015885",
                                    "5": "5",
                                    "6": "7",
                                    "7": "30",
                                    "8": "0",
                                    "9": "F",
                                    "10": "0102000020E6100000030000004087F9F202CC2040693524EEB18048404087F9F202CC2040A9BC1DE1B4804840B22E6EA301CC2040C66D3480B7804840"
                                },
                                {
                                    "0": "3",
                                    "1": "1249056033",
                                    "2": "Ritterstraße",
                                    "3": "58015882",
                                    "4": "1176053239",
                                    "5": "5",
                                    "6": "7",
                                    "7": "30",
                                    "8": "0",
                                    "9": "F",
                                    "10": "0102000020E6100000020000004087F9F202CC2040715AF0A2AF8048404087F9F202CC2040693524EEB1804840"
                                },
                                {
                                    "0": "4",
                                    "1": "1248947163",
                                    "2": "Ritterstraße",
                                    "3": "1175985946",
                                    "4": "1175985945",
                                    "5": "5",
                                    "6": "7",
                                    "7": "0",
                                    "8": "30",
                                    "9": "T",
                                    "10": "0102000020E61000000200000007B13385CECB2040693524EEB180484007B13385CECB2040A9BC1DE1B4804840"
                                },
                                {
                                    "0": "5",
                                    "1": "1248947162",
                                    "2": "Ritterstraße",
                                    "3": "58015860",
                                    "4": "1175985946",
                                    "5": "5",
                                    "6": "7",
                                    "7": "0",
                                    "8": "30",
                                    "9": "T",
                                    "10": "0102000020E6100000020000009609BFD4CFCB2040715AF0A2AF80484007B13385CECB2040693524EEB1804840"
                                },
                                {
                                    "0": "6",
                                    "1": "1248947161",
                                    "2": "Ritterstraße",
                                    "3": "1175985945",
                                    "4": "566912589",
                                    "5": "5",
                                    "6": "7",
                                    "7": "0",
                                    "8": "30",
                                    "9": "T",
                                    "10": "0102000020E61000000200000007B13385CECB2040A9BC1DE1B4804840B2BAD573D2CB2040C66D3480B7804840"
                                },
                                {
                                    "0": "7",
                                    "1": "1248947160",
                                    "2": "Ritterstraße",
                                    "3": "58015885",
                                    "4": "957521891",
                                    "5": "5",
                                    "6": "7",
                                    "7": "30",
                                    "8": "0",
                                    "9": "F",
                                    "10": "0102000020E610000002000000B22E6EA301CC2040C66D3480B7804840249C16BCE8CB20408D28ED0DBE804840"
                                },
                                {
                                    "0": "8",
                                    "1": "1248947159",
                                    "2": "Ritterstraße",
                                    "3": "566912589",
                                    "4": "957521891",
                                    "5": "5",
                                    "6": "7",
                                    "7": "0",
                                    "8": "30",
                                    "9": "T",
                                    "10": "0102000020E610000002000000B2BAD573D2CB2040C66D3480B7804840249C16BCE8CB20408D28ED0DBE804840"
                                },
                                {
                                    "0": "9",
                                    "1": "1248947158",
                                    "2": "B10",
                                    "3": "930972285",
                                    "4": "811073909",
                                    "5": "2",
                                    "6": "6",
                                    "7": "50",
                                    "8": "0",
                                    "9": "F",
                                    "10": "0102000020E6100000030000000E32C9C859C82040B806B64AB0804840637FD93D79C82040B806B64AB080484029D027F224C92040FFB27BF2B0804840"
                                }
                            ]
                        },
                        "text/html": [
                            "<table>",
                            "<tr><th>index</th><th>LINK_ID</th><th>ST_NAME</th><th>REF_IN_ID</th><th>NREF_IN_ID</th><th>FUNC_CLASS</th><th>SPEED_CAT</th><th>FR_SPEED_L</th><th>TO_SPEED_L</th><th>DIR_TRAVEL</th><th>geometry</th></tr>",
                            "<tr><td>0</td><td>1249057345</td><td>NULL</td><td>1176053948</td><td>957741789</td><td>5</td><td>6</td><td>0</td><td>50</td><td>T</td><td>0102000020E610000006000000637FD93D79C82040B806B64AB0804840D5264EEE77C8204022895E46B1804840D5264EEE77C82040B1E1E995B2804840D5264EEE77C820401B649291B3804840637FD93D79C8204062105839B48048400D897B2C7DC82040CD920035B5804840</td></tr>",
                            "<tr><td>1</td><td>1249057344</td><td>NULL</td><td>957741788</td><td>1176053948</td><td>5</td><td>6</td><td>0</td><td>50</td><td>T</td><td>0102000020E610000003000000B8921D1B81C8204006D847A7AE8048400D897B2C7DC820404D840D4FAF804840637FD93D79C82040B806B64AB0804840</td></tr>",
                            "<tr><td>2</td><td>1249056034</td><td>Ritterstraße</td><td>1176053239</td><td>58015885</td><td>5</td><td>7</td><td>30</td><td>0</td><td>F</td><td>0102000020E6100000030000004087F9F202CC2040693524EEB18048404087F9F202CC2040A9BC1DE1B4804840B22E6EA301CC2040C66D3480B7804840</td></tr>",
                            "<tr><td>3</td><td>1249056033</td><td>Ritterstraße</td><td>58015882</td><td>1176053239</td><td>5</td><td>7</td><td>30</td><td>0</td><td>F</td><td>0102000020E6100000020000004087F9F202CC2040715AF0A2AF8048404087F9F202CC2040693524EEB1804840</td></tr>",
                            "<tr><td>4</td><td>1248947163</td><td>Ritterstraße</td><td>1175985946</td><td>1175985945</td><td>5</td><td>7</td><td>0</td><td>30</td><td>T</td><td>0102000020E61000000200000007B13385CECB2040693524EEB180484007B13385CECB2040A9BC1DE1B4804840</td></tr>",
                            "<tr><td>5</td><td>1248947162</td><td>Ritterstraße</td><td>58015860</td><td>1175985946</td><td>5</td><td>7</td><td>0</td><td>30</td><td>T</td><td>0102000020E6100000020000009609BFD4CFCB2040715AF0A2AF80484007B13385CECB2040693524EEB1804840</td></tr>",
                            "<tr><td>6</td><td>1248947161</td><td>Ritterstraße</td><td>1175985945</td><td>566912589</td><td>5</td><td>7</td><td>0</td><td>30</td><td>T</td><td>0102000020E61000000200000007B13385CECB2040A9BC1DE1B4804840B2BAD573D2CB2040C66D3480B7804840</td></tr>",
                            "<tr><td>7</td><td>1248947160</td><td>Ritterstraße</td><td>58015885</td><td>957521891</td><td>5</td><td>7</td><td>30</td><td>0</td><td>F</td><td>0102000020E610000002000000B22E6EA301CC2040C66D3480B7804840249C16BCE8CB20408D28ED0DBE804840</td></tr>",
                            "<tr><td>8</td><td>1248947159</td><td>Ritterstraße</td><td>566912589</td><td>957521891</td><td>5</td><td>7</td><td>0</td><td>30</td><td>T</td><td>0102000020E610000002000000B2BAD573D2CB2040C66D3480B7804840249C16BCE8CB20408D28ED0DBE804840</td></tr>",
                            "<tr><td>9</td><td>1248947158</td><td>B10</td><td>930972285</td><td>811073909</td><td>2</td><td>6</td><td>50</td><td>0</td><td>F</td><td>0102000020E6100000030000000E32C9C859C82040B806B64AB0804840637FD93D79C82040B806B64AB080484029D027F224C92040FFB27BF2B0804840</td></tr>",
                            "</table>"
                        ]
                    }
                }
            ],
            "execution_count": 37
        },
        {
            "cell_type": "code",
            "source": [
                "alter table streets_reprojected add geometry_transformed geometry ;\n",
                "\n",
                "update streets_reprojected set geometry_transformed = ST_Transform(ST_SetSRID(geometry,4326), 3068) \n",
                ""
            ],
            "metadata": {
                "language": "sql",
                "azdata_cell_guid": "7e13cbc3-8aa9-4906-bc53-5297790523ad"
            },
            "outputs": [
                {
                    "output_type": "display_data",
                    "data": {
                        "text/html": "Commands completed successfully"
                    },
                    "metadata": {}
                },
                {
                    "output_type": "display_data",
                    "data": {
                        "text/html": "Total execution time: 00:00:04.113"
                    },
                    "metadata": {}
                }
            ],
            "execution_count": 46
        },
        {
            "cell_type": "code",
            "source": [
                "select * from streets_reprojected limit 10;"
            ],
            "metadata": {
                "language": "sql",
                "azdata_cell_guid": "0329e617-e822-490d-b395-e65f6bf08f12"
            },
            "outputs": [
                {
                    "output_type": "display_data",
                    "data": {
                        "text/html": "(10 row(s) affected)"
                    },
                    "metadata": {}
                },
                {
                    "output_type": "display_data",
                    "data": {
                        "text/html": "Total execution time: 00:00:00.028"
                    },
                    "metadata": {}
                },
                {
                    "output_type": "execute_result",
                    "metadata": {},
                    "execution_count": 48,
                    "data": {
                        "application/vnd.dataresource+json": {
                            "schema": {
                                "fields": [
                                    {
                                        "name": "index"
                                    },
                                    {
                                        "name": "LINK_ID"
                                    },
                                    {
                                        "name": "ST_NAME"
                                    },
                                    {
                                        "name": "REF_IN_ID"
                                    },
                                    {
                                        "name": "NREF_IN_ID"
                                    },
                                    {
                                        "name": "FUNC_CLASS"
                                    },
                                    {
                                        "name": "SPEED_CAT"
                                    },
                                    {
                                        "name": "FR_SPEED_L"
                                    },
                                    {
                                        "name": "TO_SPEED_L"
                                    },
                                    {
                                        "name": "DIR_TRAVEL"
                                    },
                                    {
                                        "name": "geometry"
                                    },
                                    {
                                        "name": "geometry_transformed"
                                    }
                                ]
                            },
                            "data": [
                                {
                                    "0": "54",
                                    "1": "1247687665",
                                    "2": "NULL",
                                    "3": "1175203312",
                                    "4": "1003220120",
                                    "5": "5",
                                    "6": "8",
                                    "7": "0",
                                    "8": "0",
                                    "9": "B",
                                    "10": "0102000020E610000002000000FF21FDF675E020400395F1EF3382484000AE64C746E02040FC6F253B36824840",
                                    "11": "0102000020FC0B000002000000774A89CED1B214C1FF78B3D6B3AE15C18CF30DC338B314C10A114B808DAE15C1"
                                },
                                {
                                    "0": "55",
                                    "1": "1247687664",
                                    "2": "NULL",
                                    "3": "1011806232",
                                    "4": "1175203312",
                                    "5": "5",
                                    "6": "8",
                                    "7": "0",
                                    "8": "0",
                                    "9": "B",
                                    "10": "0102000020E610000002000000E38DCC237FE02040E0BE0E9C33824840FF21FDF675E020400395F1EF33824840",
                                    "11": "0102000020FC0B00000200000077F985ADBDB214C1235B0DB0B9AE15C1774A89CED1B214C1FF78B3D6B3AE15C1"
                                },
                                {
                                    "0": "92",
                                    "1": "1246962933",
                                    "2": "NULL",
                                    "3": "1174717596",
                                    "4": "1174541627",
                                    "5": "5",
                                    "6": "8",
                                    "7": "0",
                                    "8": "0",
                                    "9": "B",
                                    "10": "0102000020E6100000020000000D897B2C7DE82040E7E3DA5031824840D5B2B5BE48E82040431CEBE236824840",
                                    "11": "0102000020FC0B000002000000FB05BC2AF3A014C151FAD93F11B015C1C09AE6C562A114C1C84706ADBDAF15C1"
                                },
                                {
                                    "0": "93",
                                    "1": "1246962911",
                                    "2": "NULL",
                                    "3": "1174717596",
                                    "4": "1174753633",
                                    "5": "5",
                                    "6": "8",
                                    "7": "0",
                                    "8": "0",
                                    "9": "B",
                                    "10": "0102000020E6100000020000000D897B2C7DE82040E7E3DA50318248402922C32ADEE82040C347C49448824840",
                                    "11": "0102000020FC0B000002000000FB05BC2AF3A014C151FAD93F11B015C1BE8E809F05A014C1D95D1262E4AE15C1"
                                },
                                {
                                    "0": "9453",
                                    "1": "991663415",
                                    "2": "NULL",
                                    "3": "1002970602",
                                    "4": "1002970597",
                                    "5": "5",
                                    "6": "8",
                                    "7": "0",
                                    "8": "0",
                                    "9": "B",
                                    "10": "0102000020E61000000200000099D36531B1B92040F1BA7EC16E8448400C0742B280B920403FA9F6E978844840",
                                    "11": "0102000020FC0B000002000000EB4446210E0715C13063E9597A8A15C1BC873284700715C148830602E98915C1"
                                },
                                {
                                    "0": "9876",
                                    "1": "931420230",
                                    "2": "NULL",
                                    "3": "957732547",
                                    "4": "957732548",
                                    "5": "5",
                                    "6": "8",
                                    "7": "0",
                                    "8": "0",
                                    "9": "B",
                                    "10": "0102000020E6100000020000005396218E75C120409B38B9DFA1804840A913D044D8C0204054A9D903AD804840",
                                    "11": "0102000020FC0B000002000000895458A755F914C1919D56E13DBF15C1A4D1E389A9FA14C1AB8815628EBE15C1"
                                },
                                {
                                    "0": "94",
                                    "1": "1246953582",
                                    "2": "Emmy-Noether-Straße",
                                    "3": "1174747498",
                                    "4": "1168057296",
                                    "5": "5",
                                    "6": "7",
                                    "7": "30",
                                    "8": "30",
                                    "9": "B",
                                    "10": "0102000020E610000002000000A9A44E4013E120405FB532E1978248401B2FDD2406E12040ED0DBE3099824840",
                                    "11": "0102000020FC0B000002000000CDCA2EC016B114C16FCC89EA7FA915C11775F4B832B114C175CFF6206CA915C1"
                                },
                                {
                                    "0": "0",
                                    "1": "1249057345",
                                    "2": "NULL",
                                    "3": "1176053948",
                                    "4": "957741789",
                                    "5": "5",
                                    "6": "6",
                                    "7": "0",
                                    "8": "50",
                                    "9": "T",
                                    "10": "0102000020E610000006000000637FD93D79C82040B806B64AB0804840D5264EEE77C8204022895E46B1804840D5264EEE77C82040B1E1E995B2804840D5264EEE77C820401B649291B3804840637FD93D79C8204062105839B48048400D897B2C7DC82040CD920035B5804840",
                                    "11": "0102000020FC0B00000600000008222B4AA8E914C171AAE9C48FBF15C120D4DC49AAE914C1FDD5C63A82BF15C13CB9900FA9E914C1EB7B4F7270BF15C1D19CD723A8E914C13FF8F51B63BF15C1133E479BA4E914C10B9A836B5ABF15C1C7B14FED9AE914C11ADA85B04DBF15C1"
                                },
                                {
                                    "0": "95",
                                    "1": "1246953581",
                                    "2": "Emmy-Noether-Straße",
                                    "3": "1174747497",
                                    "4": "1174747498",
                                    "5": "5",
                                    "6": "7",
                                    "7": "30",
                                    "8": "30",
                                    "9": "B",
                                    "10": "0102000020E6100000020000001A34F44F70E12040349D9D0C8E824840A9A44E4013E120405FB532E197824840",
                                    "11": "0102000020FC0B000002000000EF95E7A250B014C1D7D7D78413AA15C1CDCA2EC016B114C16FCC89EA7FA915C1"
                                },
                                {
                                    "0": "176",
                                    "1": "1246620657",
                                    "2": "NULL",
                                    "3": "1174541557",
                                    "4": "1174541552",
                                    "5": "5",
                                    "6": "8",
                                    "7": "0",
                                    "8": "0",
                                    "9": "B",
                                    "10": "0102000020E610000002000000F0332E1C08E920400B46257502824840B77A4E7ADFE820406EA301BC05824840",
                                    "11": "0102000020FC0B00000200000014C71C1CE99F14C1D9D5972FA2B215C1C816339240A014C1FB7F80886FB215C1"
                                }
                            ]
                        },
                        "text/html": [
                            "<table>",
                            "<tr><th>index</th><th>LINK_ID</th><th>ST_NAME</th><th>REF_IN_ID</th><th>NREF_IN_ID</th><th>FUNC_CLASS</th><th>SPEED_CAT</th><th>FR_SPEED_L</th><th>TO_SPEED_L</th><th>DIR_TRAVEL</th><th>geometry</th><th>geometry_transformed</th></tr>",
                            "<tr><td>54</td><td>1247687665</td><td>NULL</td><td>1175203312</td><td>1003220120</td><td>5</td><td>8</td><td>0</td><td>0</td><td>B</td><td>0102000020E610000002000000FF21FDF675E020400395F1EF3382484000AE64C746E02040FC6F253B36824840</td><td>0102000020FC0B000002000000774A89CED1B214C1FF78B3D6B3AE15C18CF30DC338B314C10A114B808DAE15C1</td></tr>",
                            "<tr><td>55</td><td>1247687664</td><td>NULL</td><td>1011806232</td><td>1175203312</td><td>5</td><td>8</td><td>0</td><td>0</td><td>B</td><td>0102000020E610000002000000E38DCC237FE02040E0BE0E9C33824840FF21FDF675E020400395F1EF33824840</td><td>0102000020FC0B00000200000077F985ADBDB214C1235B0DB0B9AE15C1774A89CED1B214C1FF78B3D6B3AE15C1</td></tr>",
                            "<tr><td>92</td><td>1246962933</td><td>NULL</td><td>1174717596</td><td>1174541627</td><td>5</td><td>8</td><td>0</td><td>0</td><td>B</td><td>0102000020E6100000020000000D897B2C7DE82040E7E3DA5031824840D5B2B5BE48E82040431CEBE236824840</td><td>0102000020FC0B000002000000FB05BC2AF3A014C151FAD93F11B015C1C09AE6C562A114C1C84706ADBDAF15C1</td></tr>",
                            "<tr><td>93</td><td>1246962911</td><td>NULL</td><td>1174717596</td><td>1174753633</td><td>5</td><td>8</td><td>0</td><td>0</td><td>B</td><td>0102000020E6100000020000000D897B2C7DE82040E7E3DA50318248402922C32ADEE82040C347C49448824840</td><td>0102000020FC0B000002000000FB05BC2AF3A014C151FAD93F11B015C1BE8E809F05A014C1D95D1262E4AE15C1</td></tr>",
                            "<tr><td>9453</td><td>991663415</td><td>NULL</td><td>1002970602</td><td>1002970597</td><td>5</td><td>8</td><td>0</td><td>0</td><td>B</td><td>0102000020E61000000200000099D36531B1B92040F1BA7EC16E8448400C0742B280B920403FA9F6E978844840</td><td>0102000020FC0B000002000000EB4446210E0715C13063E9597A8A15C1BC873284700715C148830602E98915C1</td></tr>",
                            "<tr><td>9876</td><td>931420230</td><td>NULL</td><td>957732547</td><td>957732548</td><td>5</td><td>8</td><td>0</td><td>0</td><td>B</td><td>0102000020E6100000020000005396218E75C120409B38B9DFA1804840A913D044D8C0204054A9D903AD804840</td><td>0102000020FC0B000002000000895458A755F914C1919D56E13DBF15C1A4D1E389A9FA14C1AB8815628EBE15C1</td></tr>",
                            "<tr><td>94</td><td>1246953582</td><td>Emmy-Noether-Straße</td><td>1174747498</td><td>1168057296</td><td>5</td><td>7</td><td>30</td><td>30</td><td>B</td><td>0102000020E610000002000000A9A44E4013E120405FB532E1978248401B2FDD2406E12040ED0DBE3099824840</td><td>0102000020FC0B000002000000CDCA2EC016B114C16FCC89EA7FA915C11775F4B832B114C175CFF6206CA915C1</td></tr>",
                            "<tr><td>0</td><td>1249057345</td><td>NULL</td><td>1176053948</td><td>957741789</td><td>5</td><td>6</td><td>0</td><td>50</td><td>T</td><td>0102000020E610000006000000637FD93D79C82040B806B64AB0804840D5264EEE77C8204022895E46B1804840D5264EEE77C82040B1E1E995B2804840D5264EEE77C820401B649291B3804840637FD93D79C8204062105839B48048400D897B2C7DC82040CD920035B5804840</td><td>0102000020FC0B00000600000008222B4AA8E914C171AAE9C48FBF15C120D4DC49AAE914C1FDD5C63A82BF15C13CB9900FA9E914C1EB7B4F7270BF15C1D19CD723A8E914C13FF8F51B63BF15C1133E479BA4E914C10B9A836B5ABF15C1C7B14FED9AE914C11ADA85B04DBF15C1</td></tr>",
                            "<tr><td>95</td><td>1246953581</td><td>Emmy-Noether-Straße</td><td>1174747497</td><td>1174747498</td><td>5</td><td>7</td><td>30</td><td>30</td><td>B</td><td>0102000020E6100000020000001A34F44F70E12040349D9D0C8E824840A9A44E4013E120405FB532E197824840</td><td>0102000020FC0B000002000000EF95E7A250B014C1D7D7D78413AA15C1CDCA2EC016B114C16FCC89EA7FA915C1</td></tr>",
                            "<tr><td>176</td><td>1246620657</td><td>NULL</td><td>1174541557</td><td>1174541552</td><td>5</td><td>8</td><td>0</td><td>0</td><td>B</td><td>0102000020E610000002000000F0332E1C08E920400B46257502824840B77A4E7ADFE820406EA301BC05824840</td><td>0102000020FC0B00000200000014C71C1CE99F14C1D9D5972FA2B215C1C816339240A014C1FB7F80886FB215C1</td></tr>",
                            "</table>"
                        ]
                    }
                }
            ],
            "execution_count": 48
        },
        {
            "cell_type": "markdown",
            "source": [
                "4.Stwórz tabelę o nazwie ‘input\\_points’ i dodaj do niej dwa rekordy o geometrii punktowej. Użyj następujących współrzędnych: \n",
                "\n",
                "X  8.36093 8.39876\n",
                "\n",
                "Y  49.03174 49.00644"
            ],
            "metadata": {
                "language": "sql",
                "azdata_cell_guid": "dc8f978f-7ce3-4811-955f-4908bae1fae1"
            },
            "attachments": {}
        },
        {
            "cell_type": "code",
            "source": [
                "create table input_points(id SERIAL PRIMARY KEY, geometry geometry, name VARCHAR(50));\n",
                ""
            ],
            "metadata": {
                "language": "sql",
                "azdata_cell_guid": "e1dc217e-77c1-4b36-bb08-722c2bc478f2"
            },
            "outputs": [
                {
                    "output_type": "display_data",
                    "data": {
                        "text/html": "Commands completed successfully"
                    },
                    "metadata": {}
                },
                {
                    "output_type": "display_data",
                    "data": {
                        "text/html": "Total execution time: 00:00:00.069"
                    },
                    "metadata": {}
                }
            ],
            "execution_count": 1
        },
        {
            "cell_type": "code",
            "source": [
                "insert into input_points(geometry, name) values\n",
                "  ('POINT(8.36093 49.03174)', 'point1'),\n",
                "  ('POINT(8.39876 49.00644)', 'point2');"
            ],
            "metadata": {
                "language": "sql",
                "azdata_cell_guid": "6595dc00-23ab-4868-99be-0544e54e9a7e",
                "tags": []
            },
            "outputs": [
                {
                    "output_type": "display_data",
                    "data": {
                        "text/html": "Commands completed successfully"
                    },
                    "metadata": {}
                },
                {
                    "output_type": "display_data",
                    "data": {
                        "text/html": "Total execution time: 00:00:00.079"
                    },
                    "metadata": {}
                }
            ],
            "execution_count": 4
        },
        {
            "cell_type": "code",
            "source": [
                "select * from input_points;"
            ],
            "metadata": {
                "language": "sql",
                "azdata_cell_guid": "bd2b9a43-7985-4b98-afa9-404ec253b12b"
            },
            "outputs": [
                {
                    "output_type": "display_data",
                    "data": {
                        "text/html": "(2 row(s) affected)"
                    },
                    "metadata": {}
                },
                {
                    "output_type": "display_data",
                    "data": {
                        "text/html": "Total execution time: 00:00:00.019"
                    },
                    "metadata": {}
                },
                {
                    "output_type": "execute_result",
                    "metadata": {},
                    "execution_count": 6,
                    "data": {
                        "application/vnd.dataresource+json": {
                            "schema": {
                                "fields": [
                                    {
                                        "name": "id"
                                    },
                                    {
                                        "name": "geometry"
                                    },
                                    {
                                        "name": "name"
                                    }
                                ]
                            },
                            "data": [
                                {
                                    "0": "1",
                                    "1": "0101000020FC0B0000A3EA5401660915C1120786925B8F15C1",
                                    "2": "point1"
                                },
                                {
                                    "0": "2",
                                    "1": "0101000020FC0B0000AF0B55C34EE114C1FA4D7B444ABE15C1",
                                    "2": "point2"
                                }
                            ]
                        },
                        "text/html": [
                            "<table>",
                            "<tr><th>id</th><th>geometry</th><th>name</th></tr>",
                            "<tr><td>1</td><td>0101000020FC0B0000A3EA5401660915C1120786925B8F15C1</td><td>point1</td></tr>",
                            "<tr><td>2</td><td>0101000020FC0B0000AF0B55C34EE114C1FA4D7B444ABE15C1</td><td>point2</td></tr>",
                            "</table>"
                        ]
                    }
                }
            ],
            "execution_count": 6
        },
        {
            "cell_type": "markdown",
            "source": [
                "5. Zaktualizuj dane w tabeli ‘input\\_points’ tak, aby punkty te były w układzie współrzędnych DHDN.Berlin/Cassini."
            ],
            "metadata": {
                "language": "sql",
                "azdata_cell_guid": "4a98d296-83d9-481d-9bf0-59a345e16687"
            },
            "attachments": {}
        },
        {
            "cell_type": "code",
            "source": [
                "update input_points set geometry = ST_Transform(ST_SetSRID(geometry,4326), 3068);\n",
                "select * from input_points;\n",
                "  "
            ],
            "metadata": {
                "language": "sql",
                "azdata_cell_guid": "a44a7562-c360-403f-9b3b-cab93d78c31b"
            },
            "outputs": [
                {
                    "output_type": "error",
                    "evalue": "transform: latitude or longitude exceeded limits (-14)",
                    "ename": "",
                    "traceback": []
                },
                {
                    "output_type": "display_data",
                    "data": {
                        "text/html": "Total execution time: 00:00:00.010"
                    },
                    "metadata": {}
                }
            ],
            "execution_count": 36
        },
        {
            "cell_type": "markdown",
            "source": [
                "6.Znajdź wszystkie skrzyżowania, które znajdują się w odległości 200 m od linii zbudowanej z punktów w tabeli ‘input\\_points’. Wykorzystaj tabelę T2019\\_STREET\\_NODE. Dokonaj"
            ],
            "metadata": {
                "language": "sql",
                "azdata_cell_guid": "902ea666-ecb6-4e31-8ed6-64e343754828"
            },
            "attachments": {}
        },
        {
            "cell_type": "code",
            "source": [
                "create view lines as select ST_Makeline(geometry) as line from input_points;\n",
                "select * from lines;\n",
                "\n",
                "alter table streets_node19 add geometry_transformed geometry ;\n",
                "update streets_node19 SET geometry_transformed = ST_Transform(ST_SetSRID(geometry,4326), 3068);\n",
                ""
            ],
            "metadata": {
                "language": "sql",
                "azdata_cell_guid": "2555747e-2d49-4bf3-af1d-ae186dade35a"
            },
            "outputs": [
                {
                    "output_type": "error",
                    "evalue": "relation \"lines\" already exists",
                    "ename": "",
                    "traceback": []
                },
                {
                    "output_type": "display_data",
                    "data": {
                        "text/html": "Total execution time: 00:00:00.006"
                    },
                    "metadata": {}
                }
            ],
            "execution_count": 56
        },
        {
            "cell_type": "code",
            "source": [
                "\n",
                "select * from streets_node19 sn\n",
                "    cross join lines l\n",
                "    where ST_Contains(ST_Buffer(l.line,0.002), sn.geometry_transformed)"
            ],
            "metadata": {
                "language": "sql",
                "azdata_cell_guid": "4fd2ff7b-14b3-40a1-942d-dd73699249ff"
            },
            "outputs": [
                {
                    "output_type": "display_data",
                    "data": {
                        "text/html": "(5 row(s) affected)"
                    },
                    "metadata": {}
                },
                {
                    "output_type": "display_data",
                    "data": {
                        "text/html": "Total execution time: 00:00:13.375"
                    },
                    "metadata": {}
                },
                {
                    "output_type": "execute_result",
                    "metadata": {},
                    "execution_count": 65,
                    "data": {
                        "application/vnd.dataresource+json": {
                            "schema": {
                                "fields": [
                                    {
                                        "name": "index"
                                    },
                                    {
                                        "name": "NODE_ID"
                                    },
                                    {
                                        "name": "LINK_ID"
                                    },
                                    {
                                        "name": "POINT_NUM"
                                    },
                                    {
                                        "name": "Z_LEVEL"
                                    },
                                    {
                                        "name": "INTERSECT"
                                    },
                                    {
                                        "name": "LAT"
                                    },
                                    {
                                        "name": "LON"
                                    },
                                    {
                                        "name": "geometry"
                                    },
                                    {
                                        "name": "geometry_transformed"
                                    },
                                    {
                                        "name": "line"
                                    }
                                ]
                            },
                            "data": [
                                {
                                    "0": "5653",
                                    "1": "957521900",
                                    "2": "1222150032",
                                    "3": "1",
                                    "4": "0",
                                    "5": "Y",
                                    "6": "49.00644",
                                    "7": "8.39876",
                                    "8": "0101000020E6100000EAE74D452ACC204070B1A206D3804840",
                                    "9": "0101000020FC0B0000AF0B55C34EE114C1FA4D7B444ABE15C1",
                                    "10": "0102000020FC0B000002000000A3EA5401660915C1120786925B8F15C1AF0B55C34EE114C1FA4D7B444ABE15C1"
                                },
                                {
                                    "0": "30891",
                                    "1": "957521900",
                                    "2": "931074813",
                                    "3": "1",
                                    "4": "0",
                                    "5": "Y",
                                    "6": "49.00644",
                                    "7": "8.39876",
                                    "8": "0101000020E6100000EAE74D452ACC204070B1A206D3804840",
                                    "9": "0101000020FC0B0000AF0B55C34EE114C1FA4D7B444ABE15C1",
                                    "10": "0102000020FC0B000002000000A3EA5401660915C1120786925B8F15C1AF0B55C34EE114C1FA4D7B444ABE15C1"
                                },
                                {
                                    "0": "30894",
                                    "1": "957521900",
                                    "2": "931074811",
                                    "3": "2",
                                    "4": "0",
                                    "5": "Y",
                                    "6": "49.00644",
                                    "7": "8.39876",
                                    "8": "0101000020E6100000EAE74D452ACC204070B1A206D3804840",
                                    "9": "0101000020FC0B0000AF0B55C34EE114C1FA4D7B444ABE15C1",
                                    "10": "0102000020FC0B000002000000A3EA5401660915C1120786925B8F15C1AF0B55C34EE114C1FA4D7B444ABE15C1"
                                },
                                {
                                    "0": "30896",
                                    "1": "957521900",
                                    "2": "931074810",
                                    "3": "2",
                                    "4": "0",
                                    "5": "Y",
                                    "6": "49.00644",
                                    "7": "8.39876",
                                    "8": "0101000020E6100000EAE74D452ACC204070B1A206D3804840",
                                    "9": "0101000020FC0B0000AF0B55C34EE114C1FA4D7B444ABE15C1",
                                    "10": "0102000020FC0B000002000000A3EA5401660915C1120786925B8F15C1AF0B55C34EE114C1FA4D7B444ABE15C1"
                                },
                                {
                                    "0": "53484",
                                    "1": "58012965",
                                    "2": "53186420",
                                    "3": "3",
                                    "4": "0",
                                    "5": "Y",
                                    "6": "49.03174",
                                    "7": "8.36093",
                                    "8": "0101000020E6100000624A24D1CBB82040CEFC6A0E10844840",
                                    "9": "0101000020FC0B0000A3EA5401660915C1120786925B8F15C1",
                                    "10": "0102000020FC0B000002000000A3EA5401660915C1120786925B8F15C1AF0B55C34EE114C1FA4D7B444ABE15C1"
                                }
                            ]
                        },
                        "text/html": [
                            "<table>",
                            "<tr><th>index</th><th>NODE_ID</th><th>LINK_ID</th><th>POINT_NUM</th><th>Z_LEVEL</th><th>INTERSECT</th><th>LAT</th><th>LON</th><th>geometry</th><th>geometry_transformed</th><th>line</th></tr>",
                            "<tr><td>5653</td><td>957521900</td><td>1222150032</td><td>1</td><td>0</td><td>Y</td><td>49.00644</td><td>8.39876</td><td>0101000020E6100000EAE74D452ACC204070B1A206D3804840</td><td>0101000020FC0B0000AF0B55C34EE114C1FA4D7B444ABE15C1</td><td>0102000020FC0B000002000000A3EA5401660915C1120786925B8F15C1AF0B55C34EE114C1FA4D7B444ABE15C1</td></tr>",
                            "<tr><td>30891</td><td>957521900</td><td>931074813</td><td>1</td><td>0</td><td>Y</td><td>49.00644</td><td>8.39876</td><td>0101000020E6100000EAE74D452ACC204070B1A206D3804840</td><td>0101000020FC0B0000AF0B55C34EE114C1FA4D7B444ABE15C1</td><td>0102000020FC0B000002000000A3EA5401660915C1120786925B8F15C1AF0B55C34EE114C1FA4D7B444ABE15C1</td></tr>",
                            "<tr><td>30894</td><td>957521900</td><td>931074811</td><td>2</td><td>0</td><td>Y</td><td>49.00644</td><td>8.39876</td><td>0101000020E6100000EAE74D452ACC204070B1A206D3804840</td><td>0101000020FC0B0000AF0B55C34EE114C1FA4D7B444ABE15C1</td><td>0102000020FC0B000002000000A3EA5401660915C1120786925B8F15C1AF0B55C34EE114C1FA4D7B444ABE15C1</td></tr>",
                            "<tr><td>30896</td><td>957521900</td><td>931074810</td><td>2</td><td>0</td><td>Y</td><td>49.00644</td><td>8.39876</td><td>0101000020E6100000EAE74D452ACC204070B1A206D3804840</td><td>0101000020FC0B0000AF0B55C34EE114C1FA4D7B444ABE15C1</td><td>0102000020FC0B000002000000A3EA5401660915C1120786925B8F15C1AF0B55C34EE114C1FA4D7B444ABE15C1</td></tr>",
                            "<tr><td>53484</td><td>58012965</td><td>53186420</td><td>3</td><td>0</td><td>Y</td><td>49.03174</td><td>8.36093</td><td>0101000020E6100000624A24D1CBB82040CEFC6A0E10844840</td><td>0101000020FC0B0000A3EA5401660915C1120786925B8F15C1</td><td>0102000020FC0B000002000000A3EA5401660915C1120786925B8F15C1AF0B55C34EE114C1FA4D7B444ABE15C1</td></tr>",
                            "</table>"
                        ]
                    }
                }
            ],
            "execution_count": 65
        },
        {
            "cell_type": "markdown",
            "source": [
                "7\\. Policz jak wiele sklepów sportowych (‘Sporting Goods Store’ - tabela POIs) znajduje się w odległości 300 m od parków (LAND\\_USE\\_A)"
            ],
            "metadata": {
                "language": "sql",
                "azdata_cell_guid": "3136b569-20b1-4a60-bad5-b3bb8e425841"
            },
            "attachments": {}
        },
        {
            "cell_type": "code",
            "source": [
                "with parks as (\n",
                "select * from land_use_a19  l where l.\"TYPE\" = 'Park (City/County)'\n",
                ")\n",
                "\n",
                "select count(*) from parks\n",
                "cross join poi2019\n",
                "where ST_Contains(ST_Buffer(parks.geometry, 0.003), poi2019.geometry) \n",
                "and poi2019.\"TYPE\" = 'Sporting Goods Store'"
            ],
            "metadata": {
                "language": "sql",
                "azdata_cell_guid": "fe4172ec-2dbb-4e97-9412-92b4127ddec8",
                "tags": []
            },
            "outputs": [
                {
                    "output_type": "display_data",
                    "data": {
                        "text/html": "(1 row(s) affected)"
                    },
                    "metadata": {}
                },
                {
                    "output_type": "display_data",
                    "data": {
                        "text/html": "Total execution time: 00:00:00.564"
                    },
                    "metadata": {}
                },
                {
                    "output_type": "execute_result",
                    "metadata": {},
                    "execution_count": 72,
                    "data": {
                        "application/vnd.dataresource+json": {
                            "schema": {
                                "fields": [
                                    {
                                        "name": "count"
                                    }
                                ]
                            },
                            "data": [
                                {
                                    "0": "52"
                                }
                            ]
                        },
                        "text/html": [
                            "<table>",
                            "<tr><th>count</th></tr>",
                            "<tr><td>52</td></tr>",
                            "</table>"
                        ]
                    }
                }
            ],
            "execution_count": 72
        },
        {
            "cell_type": "markdown",
            "source": [
                "8.Znajdź punkty przecięcia torów kolejowych (RAILWAYS) z ciekami (WATER\\_LINES). Zapisz znalezioną geometrię do osobnej tabeli o nazwie ‘T2019\\_KAR\\_BRIDGES’."
            ],
            "metadata": {
                "language": "sql",
                "azdata_cell_guid": "33d7ca54-b219-4d34-80e8-35e1a1eca39e"
            },
            "attachments": {}
        },
        {
            "cell_type": "code",
            "source": [
                "select  ST_Intersection(r.geometry, w.geometry) as geometry\n",
                "    into T2019_KAR_Bridges\n",
                "    from railways19 r\n",
                "    join water_links w on ST_Intersects(r.geometry, w.geometry)"
            ],
            "metadata": {
                "language": "sql",
                "azdata_cell_guid": "81ed6109-6071-4f86-ab69-42942166f2ba",
                "tags": []
            },
            "outputs": [
                {
                    "output_type": "error",
                    "evalue": "SELECT ... INTO is not allowed here",
                    "ename": "",
                    "traceback": []
                },
                {
                    "output_type": "display_data",
                    "data": {
                        "text/html": "Total execution time: 00:00:00.018"
                    },
                    "metadata": {}
                }
            ],
            "execution_count": 85
        }
    ]
}