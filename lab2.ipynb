{
    "metadata": {
        "kernelspec": {
            "name": "SQL",
            "display_name": "SQL",
            "language": "sql"
        },
        "language_info": {
            "name": "sql",
            "version": ""
        }
    },
    "nbformat_minor": 2,
    "nbformat": 4,
    "cells": [
        {
            "cell_type": "code",
            "source": [
                "CREATE DATABASE lab2;\n",
                ""
            ],
            "metadata": {
                "azdata_cell_guid": "d372adb4-44c3-4600-960a-b57503d36452",
                "language": "sql"
            },
            "outputs": [
                {
                    "output_type": "display_data",
                    "data": {
                        "text/html": "Commands completed successfully"
                    },
                    "metadata": {}
                },
                {
                    "output_type": "display_data",
                    "data": {
                        "text/html": "Total execution time: 00:00:00.130"
                    },
                    "metadata": {}
                }
            ],
            "execution_count": 3
        },
        {
            "cell_type": "code",
            "source": [
                "CREATE EXTENSION postgis;\n",
                "\n",
                ""
            ],
            "metadata": {
                "language": "sql",
                "azdata_cell_guid": "3a0b23af-f5e0-4c26-97e7-849801a498c3"
            },
            "outputs": [
                {
                    "output_type": "error",
                    "ename": "",
                    "evalue": "extension \"postgis\" already exists",
                    "traceback": []
                },
                {
                    "output_type": "display_data",
                    "data": {
                        "text/html": "Total execution time: 00:00:00.008"
                    },
                    "metadata": {}
                }
            ],
            "execution_count": 8
        },
        {
            "cell_type": "code",
            "source": [
                "CREATE TABLE buildings(id SERIAL PRIMARY KEY, geometry geometry, name VARCHAR);\n",
                "CREATE TABLE roads(id SERIAL PRIMARY KEY, geometry geometry, name VARCHAR);\n",
                "CREATE TABLE poi(id SERIAL PRIMARY KEY, geometry geometry, name VARCHAR);"
            ],
            "metadata": {
                "language": "sql",
                "azdata_cell_guid": "9e53d71c-7fe5-4bc2-8267-b4dc17420863"
            },
            "outputs": [
                {
                    "output_type": "display_data",
                    "data": {
                        "text/html": "Commands completed successfully"
                    },
                    "metadata": {}
                },
                {
                    "output_type": "display_data",
                    "data": {
                        "text/html": "Commands completed successfully"
                    },
                    "metadata": {}
                },
                {
                    "output_type": "display_data",
                    "data": {
                        "text/html": "Commands completed successfully"
                    },
                    "metadata": {}
                },
                {
                    "output_type": "display_data",
                    "data": {
                        "text/html": "Total execution time: 00:00:00.046"
                    },
                    "metadata": {}
                }
            ],
            "execution_count": 44
        },
        {
            "cell_type": "code",
            "source": [
                "INSERT INTO roads (geometry, name) VALUES\n",
                "    ('LINESTRING(7.5 10.5, 7.5 0)', 'roadY'),\n",
                "    ('LINESTRING(0 4.5, 12 4.5)', 'roadX');\n",
                "\n",
                "INSERT INTO buildings (geometry, name) VALUES\n",
                "    ('POLYGON((3 6, 5 6, 5 8, 3 8, 3 6))', 'BuildingC'),\n",
                "    ('POLYGON((4 5, 6 5, 6 7, 4 7, 4 5))', 'BuildingB'),\n",
                "    ('POLYGON((9 8, 10 8, 10 9, 9 9, 9 8))', 'BuildingD'),\n",
                "    ('POLYGON((8 1.5, 10.5 1.5, 10.5 4 , 8 4, 8 1.5))', 'BuildingA'),\n",
                "    ('POLYGON((1 1, 2 1, 2 2, 1 2, 1 1))', 'BuildingF');\n",
                "\n",
                "INSERT INTO poi (geometry, name)  VALUES\n",
                "    ('POINT(1 3.5)', 'G'),\n",
                "    ('POINT(5.5 1.5)', 'H'),\n",
                "    ('POINT(6.5 6)', 'J'),\n",
                "    ('POINT(6 9.5)', 'K'),\n",
                "    ('POINT(9.5 6)', 'I');\n",
                "\n",
                ""
            ],
            "metadata": {
                "language": "sql",
                "azdata_cell_guid": "550ed2ec-a9ea-499e-9a0c-6604162bd6c9"
            },
            "outputs": [
                {
                    "output_type": "display_data",
                    "data": {
                        "text/html": "Commands completed successfully"
                    },
                    "metadata": {}
                },
                {
                    "output_type": "display_data",
                    "data": {
                        "text/html": "Commands completed successfully"
                    },
                    "metadata": {}
                },
                {
                    "output_type": "display_data",
                    "data": {
                        "text/html": "Commands completed successfully"
                    },
                    "metadata": {}
                },
                {
                    "output_type": "display_data",
                    "data": {
                        "text/html": "Total execution time: 00:00:00.017"
                    },
                    "metadata": {}
                }
            ],
            "execution_count": 45
        },
        {
            "cell_type": "code",
            "source": [
                "select * from roads;\n",
                ""
            ],
            "metadata": {
                "language": "sql",
                "azdata_cell_guid": "a547a70d-ef1c-4a67-84e1-4ab1a83bae49"
            },
            "outputs": [
                {
                    "output_type": "display_data",
                    "data": {
                        "text/html": "(2 row(s) affected)"
                    },
                    "metadata": {}
                },
                {
                    "output_type": "display_data",
                    "data": {
                        "text/html": "Total execution time: 00:00:00.021"
                    },
                    "metadata": {}
                },
                {
                    "output_type": "execute_result",
                    "execution_count": 46,
                    "data": {
                        "application/vnd.dataresource+json": {
                            "schema": {
                                "fields": [
                                    {
                                        "name": "id"
                                    },
                                    {
                                        "name": "geometry"
                                    },
                                    {
                                        "name": "name"
                                    }
                                ]
                            },
                            "data": [
                                {
                                    "0": "1",
                                    "1": "0102000000020000000000000000001E4000000000000025400000000000001E400000000000000000",
                                    "2": "roadY"
                                },
                                {
                                    "0": "2",
                                    "1": "0102000000020000000000000000000000000000000000124000000000000028400000000000001240",
                                    "2": "roadX"
                                }
                            ]
                        },
                        "text/html": "<table><tr><th>id</th><th>geometry</th><th>name</th></tr><tr><td>1</td><td>0102000000020000000000000000001E4000000000000025400000000000001E400000000000000000</td><td>roadY</td></tr><tr><td>2</td><td>0102000000020000000000000000000000000000000000124000000000000028400000000000001240</td><td>roadX</td></tr></table>"
                    },
                    "metadata": {}
                },
                {
                    "output_type": "error",
                    "ename": "",
                    "evalue": "relation \"building\" does not exist",
                    "traceback": []
                }
            ],
            "execution_count": 46
        },
        {
            "cell_type": "code",
            "source": [
                "select * from buildings;\n",
                ""
            ],
            "metadata": {
                "language": "sql",
                "azdata_cell_guid": "cfed8c65-4db7-4d97-b14e-66694631ebb6"
            },
            "outputs": [
                {
                    "output_type": "display_data",
                    "data": {
                        "text/html": "(5 row(s) affected)"
                    },
                    "metadata": {}
                },
                {
                    "output_type": "display_data",
                    "data": {
                        "text/html": "Total execution time: 00:00:00.006"
                    },
                    "metadata": {}
                },
                {
                    "output_type": "execute_result",
                    "execution_count": 48,
                    "data": {
                        "application/vnd.dataresource+json": {
                            "schema": {
                                "fields": [
                                    {
                                        "name": "id"
                                    },
                                    {
                                        "name": "geometry"
                                    },
                                    {
                                        "name": "name"
                                    }
                                ]
                            },
                            "data": [
                                {
                                    "0": "1",
                                    "1": "010300000001000000050000000000000000000840000000000000184000000000000014400000000000001840000000000000144000000000000020400000000000000840000000000000204000000000000008400000000000001840",
                                    "2": "BuildingC"
                                },
                                {
                                    "0": "2",
                                    "1": "01030000000100000005000000000000000000104000000000000014400000000000001840000000000000144000000000000018400000000000001C4000000000000010400000000000001C4000000000000010400000000000001440",
                                    "2": "BuildingB"
                                },
                                {
                                    "0": "3",
                                    "1": "010300000001000000050000000000000000002240000000000000204000000000000024400000000000002040000000000000244000000000000022400000000000002240000000000000224000000000000022400000000000002040",
                                    "2": "BuildingD"
                                },
                                {
                                    "0": "4",
                                    "1": "010300000001000000050000000000000000002040000000000000F83F0000000000002540000000000000F83F00000000000025400000000000001040000000000000204000000000000010400000000000002040000000000000F83F",
                                    "2": "BuildingA"
                                },
                                {
                                    "0": "5",
                                    "1": "01030000000100000005000000000000000000F03F000000000000F03F0000000000000040000000000000F03F00000000000000400000000000000040000000000000F03F0000000000000040000000000000F03F000000000000F03F",
                                    "2": "BuildingF"
                                }
                            ]
                        },
                        "text/html": "<table><tr><th>id</th><th>geometry</th><th>name</th></tr><tr><td>1</td><td>010300000001000000050000000000000000000840000000000000184000000000000014400000000000001840000000000000144000000000000020400000000000000840000000000000204000000000000008400000000000001840</td><td>BuildingC</td></tr><tr><td>2</td><td>01030000000100000005000000000000000000104000000000000014400000000000001840000000000000144000000000000018400000000000001C4000000000000010400000000000001C4000000000000010400000000000001440</td><td>BuildingB</td></tr><tr><td>3</td><td>010300000001000000050000000000000000002240000000000000204000000000000024400000000000002040000000000000244000000000000022400000000000002240000000000000224000000000000022400000000000002040</td><td>BuildingD</td></tr><tr><td>4</td><td>010300000001000000050000000000000000002040000000000000F83F0000000000002540000000000000F83F00000000000025400000000000001040000000000000204000000000000010400000000000002040000000000000F83F</td><td>BuildingA</td></tr><tr><td>5</td><td>01030000000100000005000000000000000000F03F000000000000F03F0000000000000040000000000000F03F00000000000000400000000000000040000000000000F03F0000000000000040000000000000F03F000000000000F03F</td><td>BuildingF</td></tr></table>"
                    },
                    "metadata": {}
                }
            ],
            "execution_count": 48
        },
        {
            "cell_type": "code",
            "source": [
                "select * from poi;"
            ],
            "metadata": {
                "language": "sql",
                "azdata_cell_guid": "7ea7b913-69b5-46a3-b682-56c7b00d2dc9"
            },
            "outputs": [
                {
                    "output_type": "display_data",
                    "data": {
                        "text/html": "(5 row(s) affected)"
                    },
                    "metadata": {}
                },
                {
                    "output_type": "display_data",
                    "data": {
                        "text/html": "Total execution time: 00:00:00.026"
                    },
                    "metadata": {}
                },
                {
                    "output_type": "execute_result",
                    "execution_count": 49,
                    "data": {
                        "application/vnd.dataresource+json": {
                            "schema": {
                                "fields": [
                                    {
                                        "name": "id"
                                    },
                                    {
                                        "name": "geometry"
                                    },
                                    {
                                        "name": "name"
                                    }
                                ]
                            },
                            "data": [
                                {
                                    "0": "1",
                                    "1": "0101000000000000000000F03F0000000000000C40",
                                    "2": "G"
                                },
                                {
                                    "0": "2",
                                    "1": "01010000000000000000001640000000000000F83F",
                                    "2": "H"
                                },
                                {
                                    "0": "3",
                                    "1": "01010000000000000000001A400000000000001840",
                                    "2": "J"
                                },
                                {
                                    "0": "4",
                                    "1": "010100000000000000000018400000000000002340",
                                    "2": "K"
                                },
                                {
                                    "0": "5",
                                    "1": "010100000000000000000023400000000000001840",
                                    "2": "I"
                                }
                            ]
                        },
                        "text/html": "<table><tr><th>id</th><th>geometry</th><th>name</th></tr><tr><td>1</td><td>0101000000000000000000F03F0000000000000C40</td><td>G</td></tr><tr><td>2</td><td>01010000000000000000001640000000000000F83F</td><td>H</td></tr><tr><td>3</td><td>01010000000000000000001A400000000000001840</td><td>J</td></tr><tr><td>4</td><td>010100000000000000000018400000000000002340</td><td>K</td></tr><tr><td>5</td><td>010100000000000000000023400000000000001840</td><td>I</td></tr></table>"
                    },
                    "metadata": {}
                }
            ],
            "execution_count": 49
        },
        {
            "cell_type": "markdown",
            "source": [
                "a. Wyznacz całkowitą długość dróg w analizowanym mieście."
            ],
            "metadata": {
                "language": "sql",
                "azdata_cell_guid": "f9cc471e-a0c4-4221-83e3-9ca842ccc75e"
            },
            "attachments": {}
        },
        {
            "cell_type": "code",
            "source": [
                "select sum(ST_LENGTH(geometry)) from roads; "
            ],
            "metadata": {
                "language": "sql",
                "azdata_cell_guid": "b254ee6f-1204-4084-8519-1ab2b8098488"
            },
            "outputs": [
                {
                    "output_type": "display_data",
                    "data": {
                        "text/html": "(1 row(s) affected)"
                    },
                    "metadata": {}
                },
                {
                    "output_type": "display_data",
                    "data": {
                        "text/html": "Total execution time: 00:00:00.034"
                    },
                    "metadata": {}
                },
                {
                    "output_type": "execute_result",
                    "execution_count": 50,
                    "data": {
                        "application/vnd.dataresource+json": {
                            "schema": {
                                "fields": [
                                    {
                                        "name": "sum"
                                    }
                                ]
                            },
                            "data": [
                                {
                                    "0": "22.5"
                                }
                            ]
                        },
                        "text/html": "<table><tr><th>sum</th></tr><tr><td>22.5</td></tr></table>"
                    },
                    "metadata": {}
                }
            ],
            "execution_count": 50
        },
        {
            "cell_type": "markdown",
            "source": [
                "b. Wypisz geometrię (WKT), pole powierzchni oraz obwód poligonu reprezentującego budynek o nazwie BuildingA."
            ],
            "metadata": {
                "language": "sql",
                "azdata_cell_guid": "93f5acbf-76c1-464b-8c51-8ed01c979ce2"
            },
            "attachments": {}
        },
        {
            "cell_type": "code",
            "source": [
                "select ST_AsText(geometry) as WKT,\n",
                "       ST_AREA(geometry) as area,\n",
                "       ST_PERIMETER(geometry) as perimeter\n",
                "       from buildings where name = 'BuildingA';"
            ],
            "metadata": {
                "language": "sql",
                "azdata_cell_guid": "7160e502-91af-4ff3-82ee-5b52146cb4e7"
            },
            "outputs": [
                {
                    "output_type": "display_data",
                    "data": {
                        "text/html": "(1 row(s) affected)"
                    },
                    "metadata": {}
                },
                {
                    "output_type": "display_data",
                    "data": {
                        "text/html": "Total execution time: 00:00:00.021"
                    },
                    "metadata": {}
                },
                {
                    "output_type": "execute_result",
                    "execution_count": 58,
                    "data": {
                        "application/vnd.dataresource+json": {
                            "schema": {
                                "fields": [
                                    {
                                        "name": "wkt"
                                    },
                                    {
                                        "name": "area"
                                    },
                                    {
                                        "name": "perimeter"
                                    }
                                ]
                            },
                            "data": [
                                {
                                    "0": "POLYGON((8 1.5,10.5 1.5,10.5 4,8 4,8 1.5))",
                                    "1": "6.25",
                                    "2": "10.0"
                                }
                            ]
                        },
                        "text/html": "<table><tr><th>wkt</th><th>area</th><th>perimeter</th></tr><tr><td>POLYGON((8 1.5,10.5 1.5,10.5 4,8 4,8 1.5))</td><td>6.25</td><td>10.0</td></tr></table>"
                    },
                    "metadata": {}
                }
            ],
            "execution_count": 58
        },
        {
            "cell_type": "markdown",
            "source": [
                "c. Wypisz nazwy i pola powierzchni wszystkich poligonów w warstwie budynki. Wyniki\n",
                "\n",
                "posortuj alfabetycznie."
            ],
            "metadata": {
                "language": "sql",
                "azdata_cell_guid": "5975e2fc-0d07-4b12-8d8a-e62675e3e782"
            },
            "attachments": {}
        },
        {
            "cell_type": "code",
            "source": [
                "select  name, ST_AREA(geometry) as area\n",
                "       from buildings order by name\n",
                "            "
            ],
            "metadata": {
                "language": "sql",
                "azdata_cell_guid": "92681a2c-d012-49cc-9658-f75142a37f76"
            },
            "outputs": [
                {
                    "output_type": "display_data",
                    "data": {
                        "text/html": "(5 row(s) affected)"
                    },
                    "metadata": {}
                },
                {
                    "output_type": "display_data",
                    "data": {
                        "text/html": "Total execution time: 00:00:00.031"
                    },
                    "metadata": {}
                },
                {
                    "output_type": "execute_result",
                    "execution_count": 60,
                    "data": {
                        "application/vnd.dataresource+json": {
                            "schema": {
                                "fields": [
                                    {
                                        "name": "name"
                                    },
                                    {
                                        "name": "area"
                                    }
                                ]
                            },
                            "data": [
                                {
                                    "0": "BuildingA",
                                    "1": "6.25"
                                },
                                {
                                    "0": "BuildingB",
                                    "1": "4.0"
                                },
                                {
                                    "0": "BuildingC",
                                    "1": "4.0"
                                },
                                {
                                    "0": "BuildingD",
                                    "1": "1.0"
                                },
                                {
                                    "0": "BuildingF",
                                    "1": "1.0"
                                }
                            ]
                        },
                        "text/html": "<table><tr><th>name</th><th>area</th></tr><tr><td>BuildingA</td><td>6.25</td></tr><tr><td>BuildingB</td><td>4.0</td></tr><tr><td>BuildingC</td><td>4.0</td></tr><tr><td>BuildingD</td><td>1.0</td></tr><tr><td>BuildingF</td><td>1.0</td></tr></table>"
                    },
                    "metadata": {}
                }
            ],
            "execution_count": 60
        },
        {
            "cell_type": "markdown",
            "source": [
                "d. Wypisz nazwy i obwody 2 budynków o największej powierzchni."
            ],
            "metadata": {
                "language": "sql",
                "azdata_cell_guid": "772dea36-c219-44cf-80f8-b34ce743c641"
            },
            "attachments": {}
        },
        {
            "cell_type": "code",
            "source": [
                "SELECT name, ST_PERIMETER(geometry) as perimeter  \n",
                "    FROM ( \n",
                "        SELECT name, geometry, ST_AREA(geometry) as area\n",
                "        FROM buildings\n",
                "        ORDER BY area DESC\n",
                "        LIMIT(2)\n",
                "        ) as b"
            ],
            "metadata": {
                "language": "sql",
                "azdata_cell_guid": "e390661b-2d33-40ca-83aa-bdb229e9aacd"
            },
            "outputs": [
                {
                    "output_type": "display_data",
                    "data": {
                        "text/html": "(2 row(s) affected)"
                    },
                    "metadata": {}
                },
                {
                    "output_type": "display_data",
                    "data": {
                        "text/html": "Total execution time: 00:00:00.023"
                    },
                    "metadata": {}
                },
                {
                    "output_type": "execute_result",
                    "execution_count": 69,
                    "data": {
                        "application/vnd.dataresource+json": {
                            "schema": {
                                "fields": [
                                    {
                                        "name": "name"
                                    },
                                    {
                                        "name": "perimeter"
                                    }
                                ]
                            },
                            "data": [
                                {
                                    "0": "BuildingA",
                                    "1": "10.0"
                                },
                                {
                                    "0": "BuildingB",
                                    "1": "8.0"
                                }
                            ]
                        },
                        "text/html": "<table><tr><th>name</th><th>perimeter</th></tr><tr><td>BuildingA</td><td>10.0</td></tr><tr><td>BuildingB</td><td>8.0</td></tr></table>"
                    },
                    "metadata": {}
                }
            ],
            "execution_count": 69
        },
        {
            "cell_type": "markdown",
            "source": [
                "e. Wyznacz najkrótszą odległość między budynkiem BuildingC a punktem K."
            ],
            "metadata": {
                "language": "sql",
                "azdata_cell_guid": "e45a15db-96af-4720-b80f-e01bf832086c"
            },
            "attachments": {}
        },
        {
            "cell_type": "code",
            "source": [
                "SELECT ST_DISTANCE(b.geometry, p.geometry) \n",
                "        FROM buildings as b, poi as p\n",
                "        WHERE b.name = 'BuildingC' AND p.name = 'K'\n",
                ""
            ],
            "metadata": {
                "language": "sql",
                "azdata_cell_guid": "5a539768-0999-4da7-b18a-363cdd5c64e5"
            },
            "outputs": [
                {
                    "output_type": "display_data",
                    "data": {
                        "text/html": "(1 row(s) affected)"
                    },
                    "metadata": {}
                },
                {
                    "output_type": "display_data",
                    "data": {
                        "text/html": "Total execution time: 00:00:00.018"
                    },
                    "metadata": {}
                },
                {
                    "output_type": "execute_result",
                    "execution_count": 81,
                    "data": {
                        "application/vnd.dataresource+json": {
                            "schema": {
                                "fields": [
                                    {
                                        "name": "st_distance"
                                    }
                                ]
                            },
                            "data": [
                                {
                                    "0": "1.8027756377319946"
                                }
                            ]
                        },
                        "text/html": "<table><tr><th>st_distance</th></tr><tr><td>1.8027756377319946</td></tr></table>"
                    },
                    "metadata": {}
                }
            ],
            "execution_count": 81
        },
        {
            "cell_type": "markdown",
            "source": [
                "f. Wypisz pole powierzchni tej części budynku BuildingC, która znajduje się w odległości większej niż 0.5 od budynku BuildingB"
            ],
            "metadata": {
                "language": "sql",
                "azdata_cell_guid": "1d5a08dd-1f7d-4810-98a8-15f60aa7fb24"
            },
            "attachments": {}
        },
        {
            "cell_type": "code",
            "source": [
                "select ST_Area(ST_Difference(c.geometry, ST_Buffer(b.geometry, 0.5)))\n",
                "        from \n",
                "        (select geometry from buildings where name = 'BuildingB') as b,\n",
                "        (select geometry from buildings where name = 'BuildingC') as c;\n",
                ""
            ],
            "metadata": {
                "language": "sql",
                "azdata_cell_guid": "8d29cbeb-5e58-45f6-a522-ce9bb1c74982"
            },
            "outputs": [
                {
                    "output_type": "display_data",
                    "data": {
                        "text/html": "(1 row(s) affected)"
                    },
                    "metadata": {}
                },
                {
                    "output_type": "display_data",
                    "data": {
                        "text/html": "Total execution time: 00:00:00.023"
                    },
                    "metadata": {}
                },
                {
                    "output_type": "execute_result",
                    "metadata": {},
                    "execution_count": 25,
                    "data": {
                        "application/vnd.dataresource+json": {
                            "schema": {
                                "fields": [
                                    {
                                        "name": "st_area"
                                    }
                                ]
                            },
                            "data": [
                                {
                                    "0": "1.804909677983872"
                                }
                            ]
                        },
                        "text/html": [
                            "<table>",
                            "<tr><th>st_area</th></tr>",
                            "<tr><td>1.804909677983872</td></tr>",
                            "</table>"
                        ]
                    }
                }
            ],
            "execution_count": 25
        },
        {
            "cell_type": "markdown",
            "source": [
                "g. Wybierz te budynki, których centroid (ST\\_Centroid) znajduje się powyżej drogi o nazwie RoadX. 8. Oblicz pole powierzchni tych części budynku BuildingC i poligonu o współrzędnych (4 7, 6 7, 6 8, 4 8, 4 7), które nie są wspólne dla tych dwóch obiektów."
            ],
            "metadata": {
                "language": "sql",
                "azdata_cell_guid": "10dabc6e-9ad6-4469-9a4a-94851c009733"
            },
            "attachments": {}
        },
        {
            "cell_type": "code",
            "source": [
                "with up as (select ST_Y(ST_CENTROID(geometry)) as y from roads where name = 'roadX')\n",
                "\n",
                "select name from buildings as b, up where  ST_Y(ST_CENTROID(b.geometry)) > up.y;"
            ],
            "metadata": {
                "language": "sql",
                "azdata_cell_guid": "fa212f2d-a3f2-4e0b-8243-76fbd1cdd905"
            },
            "outputs": [
                {
                    "output_type": "display_data",
                    "data": {
                        "text/html": "(3 row(s) affected)"
                    },
                    "metadata": {}
                },
                {
                    "output_type": "display_data",
                    "data": {
                        "text/html": "Total execution time: 00:00:00.023"
                    },
                    "metadata": {}
                },
                {
                    "output_type": "execute_result",
                    "metadata": {},
                    "execution_count": 24,
                    "data": {
                        "application/vnd.dataresource+json": {
                            "schema": {
                                "fields": [
                                    {
                                        "name": "name"
                                    }
                                ]
                            },
                            "data": [
                                {
                                    "0": "BuildingC"
                                },
                                {
                                    "0": "BuildingB"
                                },
                                {
                                    "0": "BuildingD"
                                }
                            ]
                        },
                        "text/html": [
                            "<table>",
                            "<tr><th>name</th></tr>",
                            "<tr><td>BuildingC</td></tr>",
                            "<tr><td>BuildingB</td></tr>",
                            "<tr><td>BuildingD</td></tr>",
                            "</table>"
                        ]
                    }
                }
            ],
            "execution_count": 24
        },
        {
            "cell_type": "markdown",
            "source": [
                "Oblicz pole powierzchni tych części budynku BuildingC i poligonu o współrzędnych (4 7, 6 7, 6 8, 4 8, 4 7), które nie są wspólne dla tych dwóch obiektów."
            ],
            "metadata": {
                "language": "sql",
                "azdata_cell_guid": "75b0b139-f7f4-4a42-a929-746ccee6b3db"
            },
            "attachments": {}
        },
        {
            "cell_type": "code",
            "source": [
                "select ST_Area(ST_SymDifference(geometry, ST_GeomFromText('POLYGON((4 7, 6 7, 6 8, 4 8, 4 7))')))\n",
                "     from buildings\n",
                "     where name = 'BuildingC';"
            ],
            "metadata": {
                "language": "sql",
                "azdata_cell_guid": "36572cee-5981-4b2b-b1af-b161f0ccbf65"
            },
            "outputs": [
                {
                    "output_type": "display_data",
                    "data": {
                        "text/html": "(1 row(s) affected)"
                    },
                    "metadata": {}
                },
                {
                    "output_type": "display_data",
                    "data": {
                        "text/html": "Total execution time: 00:00:00.023"
                    },
                    "metadata": {}
                },
                {
                    "output_type": "execute_result",
                    "metadata": {},
                    "execution_count": 21,
                    "data": {
                        "application/vnd.dataresource+json": {
                            "schema": {
                                "fields": [
                                    {
                                        "name": "st_area"
                                    }
                                ]
                            },
                            "data": [
                                {
                                    "0": "4.0"
                                }
                            ]
                        },
                        "text/html": [
                            "<table>",
                            "<tr><th>st_area</th></tr>",
                            "<tr><td>4.0</td></tr>",
                            "</table>"
                        ]
                    }
                }
            ],
            "execution_count": 21
        },
        {
            "cell_type": "markdown",
            "source": [
                "CLEAR"
            ],
            "metadata": {
                "language": "sql",
                "azdata_cell_guid": "a74a0394-7061-401a-8cea-224a366238b9"
            },
            "attachments": {}
        },
        {
            "cell_type": "code",
            "source": [
                "drop table poi;\n",
                "drop table roads;\n",
                "drop table buildings;"
            ],
            "metadata": {
                "language": "sql",
                "azdata_cell_guid": "f2209fd6-65e9-4a9f-a583-fd95c33d996e"
            },
            "outputs": [
                {
                    "output_type": "display_data",
                    "data": {
                        "text/html": "Commands completed successfully"
                    },
                    "metadata": {}
                },
                {
                    "output_type": "display_data",
                    "data": {
                        "text/html": "Commands completed successfully"
                    },
                    "metadata": {}
                },
                {
                    "output_type": "display_data",
                    "data": {
                        "text/html": "Commands completed successfully"
                    },
                    "metadata": {}
                },
                {
                    "output_type": "display_data",
                    "data": {
                        "text/html": "Total execution time: 00:00:00.036"
                    },
                    "metadata": {}
                }
            ],
            "execution_count": 43
        }
    ]
}